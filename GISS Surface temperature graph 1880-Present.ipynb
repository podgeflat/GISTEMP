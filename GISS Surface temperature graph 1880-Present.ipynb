{
 "cells": [
  {
   "cell_type": "markdown",
   "metadata": {},
   "source": [
    "# Graph of global surface temperature from 1880 to present"
   ]
  },
  {
   "cell_type": "markdown",
   "metadata": {},
   "source": [
    "The data to generate this graph comes from the Goddard Institute for Space Studies (GISS) Surface Temperature Dataset (GISTEMP) available [here](http://data.giss.nasa.gov/gistemp/)"
   ]
  },
  {
   "cell_type": "markdown",
   "metadata": {},
   "source": [
    "Data used are Combined Land-Surface Air and Sea-Surface Water Temperature Anomalies (Land-Ocean Temperature Index, LOTI),\n",
    "Global-mean monthly, seasonal, and annual means, 1880-present, updated through most recent month in TXT and CSV format. Anomalies are based around 1951-1980 average temperatures. "
   ]
  },
  {
   "cell_type": "markdown",
   "metadata": {},
   "source": [
    "### Load packages "
   ]
  },
  {
   "cell_type": "code",
   "execution_count": 1,
   "metadata": {},
   "outputs": [],
   "source": [
    "import pandas as pd\n",
    "import matplotlib.pyplot as plt\n",
    "from bokeh.plotting import figure, output_file, show, output_notebook\n",
    "from bokeh.models import Span, HoverTool\n",
    "%matplotlib inline"
   ]
  },
  {
   "cell_type": "markdown",
   "metadata": {},
   "source": [
    "### Read in CSV data"
   ]
  },
  {
   "cell_type": "code",
   "execution_count": 2,
   "metadata": {
    "scrolled": true
   },
   "outputs": [],
   "source": [
    "data = pd.read_csv(\"http://data.giss.nasa.gov/gistemp/tabledata_v3/GLB.Ts+dSST.csv\", na_values = [\"**** \",\"***  \", \"***\"],skiprows=1)"
   ]
  },
  {
   "cell_type": "markdown",
   "metadata": {},
   "source": [
    "### Select necessary columns"
   ]
  },
  {
   "cell_type": "code",
   "execution_count": 4,
   "metadata": {},
   "outputs": [],
   "source": [
    "df = data.iloc[:,1:13]"
   ]
  },
  {
   "cell_type": "code",
   "execution_count": 5,
   "metadata": {},
   "outputs": [
    {
     "data": {
      "text/html": [
       "<div>\n",
       "<style scoped>\n",
       "    .dataframe tbody tr th:only-of-type {\n",
       "        vertical-align: middle;\n",
       "    }\n",
       "\n",
       "    .dataframe tbody tr th {\n",
       "        vertical-align: top;\n",
       "    }\n",
       "\n",
       "    .dataframe thead th {\n",
       "        text-align: right;\n",
       "    }\n",
       "</style>\n",
       "<table border=\"1\" class=\"dataframe\">\n",
       "  <thead>\n",
       "    <tr style=\"text-align: right;\">\n",
       "      <th></th>\n",
       "      <th>Jan</th>\n",
       "      <th>Feb</th>\n",
       "      <th>Mar</th>\n",
       "      <th>Apr</th>\n",
       "      <th>May</th>\n",
       "      <th>Jun</th>\n",
       "      <th>Jul</th>\n",
       "      <th>Aug</th>\n",
       "      <th>Sep</th>\n",
       "      <th>Oct</th>\n",
       "      <th>Nov</th>\n",
       "      <th>Dec</th>\n",
       "    </tr>\n",
       "  </thead>\n",
       "  <tbody>\n",
       "    <tr>\n",
       "      <th>0</th>\n",
       "      <td>-0.29</td>\n",
       "      <td>-0.18</td>\n",
       "      <td>-0.11</td>\n",
       "      <td>-0.20</td>\n",
       "      <td>-0.12</td>\n",
       "      <td>-0.23</td>\n",
       "      <td>-0.21</td>\n",
       "      <td>-0.09</td>\n",
       "      <td>-0.16</td>\n",
       "      <td>-0.23</td>\n",
       "      <td>-0.20</td>\n",
       "      <td>-0.23</td>\n",
       "    </tr>\n",
       "    <tr>\n",
       "      <th>1</th>\n",
       "      <td>-0.16</td>\n",
       "      <td>-0.17</td>\n",
       "      <td>0.04</td>\n",
       "      <td>0.04</td>\n",
       "      <td>0.02</td>\n",
       "      <td>-0.20</td>\n",
       "      <td>-0.07</td>\n",
       "      <td>-0.03</td>\n",
       "      <td>-0.14</td>\n",
       "      <td>-0.21</td>\n",
       "      <td>-0.22</td>\n",
       "      <td>-0.11</td>\n",
       "    </tr>\n",
       "    <tr>\n",
       "      <th>2</th>\n",
       "      <td>0.14</td>\n",
       "      <td>0.15</td>\n",
       "      <td>0.03</td>\n",
       "      <td>-0.19</td>\n",
       "      <td>-0.16</td>\n",
       "      <td>-0.26</td>\n",
       "      <td>-0.21</td>\n",
       "      <td>-0.06</td>\n",
       "      <td>-0.10</td>\n",
       "      <td>-0.25</td>\n",
       "      <td>-0.16</td>\n",
       "      <td>-0.25</td>\n",
       "    </tr>\n",
       "    <tr>\n",
       "      <th>3</th>\n",
       "      <td>-0.32</td>\n",
       "      <td>-0.39</td>\n",
       "      <td>-0.13</td>\n",
       "      <td>-0.17</td>\n",
       "      <td>-0.20</td>\n",
       "      <td>-0.13</td>\n",
       "      <td>-0.08</td>\n",
       "      <td>-0.15</td>\n",
       "      <td>-0.21</td>\n",
       "      <td>-0.14</td>\n",
       "      <td>-0.22</td>\n",
       "      <td>-0.16</td>\n",
       "    </tr>\n",
       "    <tr>\n",
       "      <th>4</th>\n",
       "      <td>-0.16</td>\n",
       "      <td>-0.08</td>\n",
       "      <td>-0.37</td>\n",
       "      <td>-0.43</td>\n",
       "      <td>-0.37</td>\n",
       "      <td>-0.41</td>\n",
       "      <td>-0.35</td>\n",
       "      <td>-0.26</td>\n",
       "      <td>-0.27</td>\n",
       "      <td>-0.24</td>\n",
       "      <td>-0.30</td>\n",
       "      <td>-0.29</td>\n",
       "    </tr>\n",
       "    <tr>\n",
       "      <th>...</th>\n",
       "      <td>...</td>\n",
       "      <td>...</td>\n",
       "      <td>...</td>\n",
       "      <td>...</td>\n",
       "      <td>...</td>\n",
       "      <td>...</td>\n",
       "      <td>...</td>\n",
       "      <td>...</td>\n",
       "      <td>...</td>\n",
       "      <td>...</td>\n",
       "      <td>...</td>\n",
       "      <td>...</td>\n",
       "    </tr>\n",
       "    <tr>\n",
       "      <th>135</th>\n",
       "      <td>0.81</td>\n",
       "      <td>0.87</td>\n",
       "      <td>0.90</td>\n",
       "      <td>0.75</td>\n",
       "      <td>0.75</td>\n",
       "      <td>0.79</td>\n",
       "      <td>0.71</td>\n",
       "      <td>0.79</td>\n",
       "      <td>0.82</td>\n",
       "      <td>1.07</td>\n",
       "      <td>1.03</td>\n",
       "      <td>1.10</td>\n",
       "    </tr>\n",
       "    <tr>\n",
       "      <th>136</th>\n",
       "      <td>1.15</td>\n",
       "      <td>1.35</td>\n",
       "      <td>1.31</td>\n",
       "      <td>1.07</td>\n",
       "      <td>0.91</td>\n",
       "      <td>0.77</td>\n",
       "      <td>0.82</td>\n",
       "      <td>1.00</td>\n",
       "      <td>0.88</td>\n",
       "      <td>0.90</td>\n",
       "      <td>0.91</td>\n",
       "      <td>0.83</td>\n",
       "    </tr>\n",
       "    <tr>\n",
       "      <th>137</th>\n",
       "      <td>0.98</td>\n",
       "      <td>1.13</td>\n",
       "      <td>1.13</td>\n",
       "      <td>0.92</td>\n",
       "      <td>0.89</td>\n",
       "      <td>0.70</td>\n",
       "      <td>0.82</td>\n",
       "      <td>0.87</td>\n",
       "      <td>0.76</td>\n",
       "      <td>0.88</td>\n",
       "      <td>0.86</td>\n",
       "      <td>0.89</td>\n",
       "    </tr>\n",
       "    <tr>\n",
       "      <th>138</th>\n",
       "      <td>0.77</td>\n",
       "      <td>0.85</td>\n",
       "      <td>0.91</td>\n",
       "      <td>0.87</td>\n",
       "      <td>0.81</td>\n",
       "      <td>0.74</td>\n",
       "      <td>0.78</td>\n",
       "      <td>0.73</td>\n",
       "      <td>0.76</td>\n",
       "      <td>0.99</td>\n",
       "      <td>0.78</td>\n",
       "      <td>0.89</td>\n",
       "    </tr>\n",
       "    <tr>\n",
       "      <th>139</th>\n",
       "      <td>0.87</td>\n",
       "      <td>0.92</td>\n",
       "      <td>1.11</td>\n",
       "      <td>0.97</td>\n",
       "      <td>0.85</td>\n",
       "      <td>0.86</td>\n",
       "      <td>0.90</td>\n",
       "      <td>NaN</td>\n",
       "      <td>NaN</td>\n",
       "      <td>NaN</td>\n",
       "      <td>NaN</td>\n",
       "      <td>NaN</td>\n",
       "    </tr>\n",
       "  </tbody>\n",
       "</table>\n",
       "<p>140 rows × 12 columns</p>\n",
       "</div>"
      ],
      "text/plain": [
       "      Jan   Feb   Mar   Apr   May   Jun   Jul   Aug   Sep   Oct   Nov   Dec\n",
       "0   -0.29 -0.18 -0.11 -0.20 -0.12 -0.23 -0.21 -0.09 -0.16 -0.23 -0.20 -0.23\n",
       "1   -0.16 -0.17  0.04  0.04  0.02 -0.20 -0.07 -0.03 -0.14 -0.21 -0.22 -0.11\n",
       "2    0.14  0.15  0.03 -0.19 -0.16 -0.26 -0.21 -0.06 -0.10 -0.25 -0.16 -0.25\n",
       "3   -0.32 -0.39 -0.13 -0.17 -0.20 -0.13 -0.08 -0.15 -0.21 -0.14 -0.22 -0.16\n",
       "4   -0.16 -0.08 -0.37 -0.43 -0.37 -0.41 -0.35 -0.26 -0.27 -0.24 -0.30 -0.29\n",
       "..    ...   ...   ...   ...   ...   ...   ...   ...   ...   ...   ...   ...\n",
       "135  0.81  0.87  0.90  0.75  0.75  0.79  0.71  0.79  0.82  1.07  1.03  1.10\n",
       "136  1.15  1.35  1.31  1.07  0.91  0.77  0.82  1.00  0.88  0.90  0.91  0.83\n",
       "137  0.98  1.13  1.13  0.92  0.89  0.70  0.82  0.87  0.76  0.88  0.86  0.89\n",
       "138  0.77  0.85  0.91  0.87  0.81  0.74  0.78  0.73  0.76  0.99  0.78  0.89\n",
       "139  0.87  0.92  1.11  0.97  0.85  0.86  0.90   NaN   NaN   NaN   NaN   NaN\n",
       "\n",
       "[140 rows x 12 columns]"
      ]
     },
     "execution_count": 5,
     "metadata": {},
     "output_type": "execute_result"
    }
   ],
   "source": [
    "df"
   ]
  },
  {
   "cell_type": "markdown",
   "metadata": {},
   "source": [
    "### Convert to Celsius (divide by 100)"
   ]
  },
  {
   "cell_type": "code",
   "execution_count": 4,
   "metadata": {},
   "outputs": [],
   "source": [
    "#df = df.divide(100)"
   ]
  },
  {
   "cell_type": "markdown",
   "metadata": {},
   "source": [
    "### Add a year column"
   ]
  },
  {
   "cell_type": "code",
   "execution_count": 6,
   "metadata": {},
   "outputs": [],
   "source": [
    "df['Year'] = data['Year']"
   ]
  },
  {
   "cell_type": "markdown",
   "metadata": {},
   "source": [
    "### Index by year and stack the data, then reset the index"
   ]
  },
  {
   "cell_type": "code",
   "execution_count": 7,
   "metadata": {
    "scrolled": true
   },
   "outputs": [],
   "source": [
    "df2 = df.set_index('Year').stack().reset_index()"
   ]
  },
  {
   "cell_type": "markdown",
   "metadata": {},
   "source": [
    "### Name the columns"
   ]
  },
  {
   "cell_type": "code",
   "execution_count": 8,
   "metadata": {},
   "outputs": [],
   "source": [
    "df2.columns = ['Year','Month','Value']"
   ]
  },
  {
   "cell_type": "markdown",
   "metadata": {},
   "source": [
    "### Add Datetime column based on year and month"
   ]
  },
  {
   "cell_type": "code",
   "execution_count": 9,
   "metadata": {
    "scrolled": true
   },
   "outputs": [
    {
     "name": "stdout",
     "output_type": "stream",
     "text": [
      "      Year Month  Value       Date\n",
      "0     1880   Jan  -0.29 1880-01-01\n",
      "1     1880   Feb  -0.18 1880-02-01\n",
      "2     1880   Mar  -0.11 1880-03-01\n",
      "3     1880   Apr  -0.20 1880-04-01\n",
      "4     1880   May  -0.12 1880-05-01\n",
      "...    ...   ...    ...        ...\n",
      "1670  2019   Mar   1.11 2019-03-01\n",
      "1671  2019   Apr   0.97 2019-04-01\n",
      "1672  2019   May   0.85 2019-05-01\n",
      "1673  2019   Jun   0.86 2019-06-01\n",
      "1674  2019   Jul   0.90 2019-07-01\n",
      "\n",
      "[1675 rows x 4 columns]\n"
     ]
    }
   ],
   "source": [
    "df2[\"Date\"] = pd.to_datetime(df2.Year.astype(str) + \"-\" + df2.Month, format=\"%Y-%b\")\n",
    "print(df2)"
   ]
  },
  {
   "cell_type": "markdown",
   "metadata": {},
   "source": [
    "### Plot the monthly data"
   ]
  },
  {
   "cell_type": "code",
   "execution_count": 10,
   "metadata": {},
   "outputs": [
    {
     "data": {
      "text/plain": [
       "Text(0, 0.5, 'Degrees C')"
      ]
     },
     "execution_count": 10,
     "metadata": {},
     "output_type": "execute_result"
    },
    {
     "data": {
      "image/png": "[encoded data removed]",
      "text/plain": [
       "<Figure size 432x288 with 1 Axes>"
      ]
     },
     "metadata": {
      "needs_background": "light"
     },
     "output_type": "display_data"
    }
   ],
   "source": [
    "plt.plot(df2['Year'], df2['Value']) #plot x and y variables\n",
    "plt.axhline(0,color='red') #red line marking 0\n",
    "plt.title('Global Surface Temperature Anomaly 1880-Present') #title\n",
    "plt.xlabel('Year')\n",
    "plt.ylabel('Degrees C')"
   ]
  },
  {
   "cell_type": "markdown",
   "metadata": {},
   "source": [
    "### Plot the Annual anomalies"
   ]
  },
  {
   "cell_type": "code",
   "execution_count": 11,
   "metadata": {},
   "outputs": [],
   "source": [
    "#convert to Degrees C\n",
    "data['J-D'] = data['J-D']/100"
   ]
  },
  {
   "cell_type": "code",
   "execution_count": 12,
   "metadata": {},
   "outputs": [
    {
     "data": {
      "text/plain": [
       "Text(0, 0.5, 'Degrees C')"
      ]
     },
     "execution_count": 12,
     "metadata": {},
     "output_type": "execute_result"
    },
    {
     "data": {
      "image/png": "[encoded data removed]",
      "text/plain": [
       "<Figure size 432x288 with 1 Axes>"
      ]
     },
     "metadata": {
      "needs_background": "light"
     },
     "output_type": "display_data"
    }
   ],
   "source": [
    "plt.plot(data['Year'], data['J-D']*100) #x and y axis  (*100 to convert to celsius)\n",
    "plt.axhline(0,color='red')\n",
    "plt.title('Global Surface Temperature Anomaly 1880-Present') #title\n",
    "plt.xlabel('Year')\n",
    "plt.ylabel('Degrees C')"
   ]
  },
  {
   "cell_type": "markdown",
   "metadata": {},
   "source": [
    "### Using Bokeh"
   ]
  },
  {
   "cell_type": "code",
   "execution_count": 13,
   "metadata": {},
   "outputs": [
    {
     "data": {
      "text/html": [
       "\n",
       "    <div class=\"bk-root\">\n",
       "        <a href=\"https://bokeh.org\" target=\"_blank\" class=\"bk-logo bk-logo-small bk-logo-notebook\"></a>\n",
       "        <span id=\"1001\">Loading BokehJS ...</span>\n",
       "    </div>"
      ]
     },
     "metadata": {},
     "output_type": "display_data"
    },
    {
     "data": {
      "application/javascript": [
       "\n",
       "(function(root) {\n",
       "  function now() {\n",
       "    return new Date();\n",
       "  }\n",
       "\n",
       "  var force = true;\n",
       "\n",
       "  if (typeof root._bokeh_onload_callbacks === \"undefined\" || force === true) {\n",
       "    root._bokeh_onload_callbacks = [];\n",
       "    root._bokeh_is_loading = undefined;\n",
       "  }\n",
       "\n",
       "  var JS_MIME_TYPE = 'application/javascript';\n",
       "  var HTML_MIME_TYPE = 'text/html';\n",
       "  var EXEC_MIME_TYPE = 'application/vnd.bokehjs_exec.v0+json';\n",
       "  var CLASS_NAME = 'output_bokeh rendered_html';\n",
       "\n",
       "  /**\n",
       "   * Render data to the DOM node\n",
       "   */\n",
       "  function render(props, node) {\n",
       "    var script = document.createElement(\"script\");\n",
       "    node.appendChild(script);\n",
       "  }\n",
       "\n",
       "  /**\n",
       "   * Handle when an output is cleared or removed\n",
       "   */\n",
       "  function handleClearOutput(event, handle) {\n",
       "    var cell = handle.cell;\n",
       "\n",
       "    var id = cell.output_area._bokeh_element_id;\n",
       "    var server_id = cell.output_area._bokeh_server_id;\n",
       "    // Clean up Bokeh references\n",
       "    if (id != null && id in Bokeh.index) {\n",
       "      Bokeh.index[id].model.document.clear();\n",
       "      delete Bokeh.index[id];\n",
       "    }\n",
       "\n",
       "    if (server_id !== undefined) {\n",
       "      // Clean up Bokeh references\n",
       "      var cmd = \"from bokeh.io.state import curstate; print(curstate().uuid_to_server['\" + server_id + \"'].get_sessions()[0].document.roots[0]._id)\";\n",
       "      cell.notebook.kernel.execute(cmd, {\n",
       "        iopub: {\n",
       "          output: function(msg) {\n",
       "            var id = msg.content.text.trim();\n",
       "            if (id in Bokeh.index) {\n",
       "              Bokeh.index[id].model.document.clear();\n",
       "              delete Bokeh.index[id];\n",
       "            }\n",
       "          }\n",
       "        }\n",
       "      });\n",
       "      // Destroy server and session\n",
       "      var cmd = \"import bokeh.io.notebook as ion; ion.destroy_server('\" + server_id + \"')\";\n",
       "      cell.notebook.kernel.execute(cmd);\n",
       "    }\n",
       "  }\n",
       "\n",
       "  /**\n",
       "   * Handle when a new output is added\n",
       "   */\n",
       "  function handleAddOutput(event, handle) {\n",
       "    var output_area = handle.output_area;\n",
       "    var output = handle.output;\n",
       "\n",
       "    // limit handleAddOutput to display_data with EXEC_MIME_TYPE content only\n",
       "    if ((output.output_type != \"display_data\") || (!output.data.hasOwnProperty(EXEC_MIME_TYPE))) {\n",
       "      return\n",
       "    }\n",
       "\n",
       "    var toinsert = output_area.element.find(\".\" + CLASS_NAME.split(' ')[0]);\n",
       "\n",
       "    if (output.metadata[EXEC_MIME_TYPE][\"id\"] !== undefined) {\n",
       "      toinsert[toinsert.length - 1].firstChild.textContent = output.data[JS_MIME_TYPE];\n",
       "      // store reference to embed id on output_area\n",
       "      output_area._bokeh_element_id = output.metadata[EXEC_MIME_TYPE][\"id\"];\n",
       "    }\n",
       "    if (output.metadata[EXEC_MIME_TYPE][\"server_id\"] !== undefined) {\n",
       "      var bk_div = document.createElement(\"div\");\n",
       "      bk_div.innerHTML = output.data[HTML_MIME_TYPE];\n",
       "      var script_attrs = bk_div.children[0].attributes;\n",
       "      for (var i = 0; i < script_attrs.length; i++) {\n",
       "        toinsert[toinsert.length - 1].firstChild.setAttribute(script_attrs[i].name, script_attrs[i].value);\n",
       "        toinsert[toinsert.length - 1].firstChild.textContent = bk_div.children[0].textContent\n",
       "      }\n",
       "      // store reference to server id on output_area\n",
       "      output_area._bokeh_server_id = output.metadata[EXEC_MIME_TYPE][\"server_id\"];\n",
       "    }\n",
       "  }\n",
       "\n",
       "  function register_renderer(events, OutputArea) {\n",
       "\n",
       "    function append_mime(data, metadata, element) {\n",
       "      // create a DOM node to render to\n",
       "      var toinsert = this.create_output_subarea(\n",
       "        metadata,\n",
       "        CLASS_NAME,\n",
       "        EXEC_MIME_TYPE\n",
       "      );\n",
       "      this.keyboard_manager.register_events(toinsert);\n",
       "      // Render to node\n",
       "      var props = {data: data, metadata: metadata[EXEC_MIME_TYPE]};\n",
       "      render(props, toinsert[toinsert.length - 1]);\n",
       "      element.append(toinsert);\n",
       "      return toinsert\n",
       "    }\n",
       "\n",
       "    /* Handle when an output is cleared or removed */\n",
       "    events.on('clear_output.CodeCell', handleClearOutput);\n",
       "    events.on('delete.Cell', handleClearOutput);\n",
       "\n",
       "    /* Handle when a new output is added */\n",
       "    events.on('output_added.OutputArea', handleAddOutput);\n",
       "\n",
       "    /**\n",
       "     * Register the mime type and append_mime function with output_area\n",
       "     */\n",
       "    OutputArea.prototype.register_mime_type(EXEC_MIME_TYPE, append_mime, {\n",
       "      /* Is output safe? */\n",
       "      safe: true,\n",
       "      /* Index of renderer in `output_area.display_order` */\n",
       "      index: 0\n",
       "    });\n",
       "  }\n",
       "\n",
       "  // register the mime type if in Jupyter Notebook environment and previously unregistered\n",
       "  if (root.Jupyter !== undefined) {\n",
       "    var events = require('base/js/events');\n",
       "    var OutputArea = require('notebook/js/outputarea').OutputArea;\n",
       "\n",
       "    if (OutputArea.prototype.mime_types().indexOf(EXEC_MIME_TYPE) == -1) {\n",
       "      register_renderer(events, OutputArea);\n",
       "    }\n",
       "  }\n",
       "\n",
       "  \n",
       "  if (typeof (root._bokeh_timeout) === \"undefined\" || force === true) {\n",
       "    root._bokeh_timeout = Date.now() + 5000;\n",
       "    root._bokeh_failed_load = false;\n",
       "  }\n",
       "\n",
       "  var NB_LOAD_WARNING = {'data': {'text/html':\n",
       "     \"<div style='background-color: #fdd'>\\n\"+\n",
       "     \"<p>\\n\"+\n",
       "     \"BokehJS does not appear to have successfully loaded. If loading BokehJS from CDN, this \\n\"+\n",
       "     \"may be due to a slow or bad network connection. Possible fixes:\\n\"+\n",
       "     \"</p>\\n\"+\n",
       "     \"<ul>\\n\"+\n",
       "     \"<li>re-rerun `output_notebook()` to attempt to load from CDN again, or</li>\\n\"+\n",
       "     \"<li>use INLINE resources instead, as so:</li>\\n\"+\n",
       "     \"</ul>\\n\"+\n",
       "     \"<code>\\n\"+\n",
       "     \"from bokeh.resources import INLINE\\n\"+\n",
       "     \"output_notebook(resources=INLINE)\\n\"+\n",
       "     \"</code>\\n\"+\n",
       "     \"</div>\"}};\n",
       "\n",
       "  function display_loaded() {\n",
       "    var el = document.getElementById(\"1001\");\n",
       "    if (el != null) {\n",
       "      el.textContent = \"BokehJS is loading...\";\n",
       "    }\n",
       "    if (root.Bokeh !== undefined) {\n",
       "      if (el != null) {\n",
       "        el.textContent = \"BokehJS \" + root.Bokeh.version + \" successfully loaded.\";\n",
       "      }\n",
       "    } else if (Date.now() < root._bokeh_timeout) {\n",
       "      setTimeout(display_loaded, 100)\n",
       "    }\n",
       "  }\n",
       "\n",
       "\n",
       "  function run_callbacks() {\n",
       "    try {\n",
       "      root._bokeh_onload_callbacks.forEach(function(callback) {\n",
       "        if (callback != null)\n",
       "          callback();\n",
       "      });\n",
       "    } finally {\n",
       "      delete root._bokeh_onload_callbacks\n",
       "    }\n",
       "    console.debug(\"Bokeh: all callbacks have finished\");\n",
       "  }\n",
       "\n",
       "  function load_libs(css_urls, js_urls, callback) {\n",
       "    if (css_urls == null) css_urls = [];\n",
       "    if (js_urls == null) js_urls = [];\n",
       "\n",
       "    root._bokeh_onload_callbacks.push(callback);\n",
       "    if (root._bokeh_is_loading > 0) {\n",
       "      console.debug(\"Bokeh: BokehJS is being loaded, scheduling callback at\", now());\n",
       "      return null;\n",
       "    }\n",
       "    if (js_urls == null || js_urls.length === 0) {\n",
       "      run_callbacks();\n",
       "      return null;\n",
       "    }\n",
       "    console.debug(\"Bokeh: BokehJS not loaded, scheduling load and callback at\", now());\n",
       "    root._bokeh_is_loading = css_urls.length + js_urls.length;\n",
       "\n",
       "    function on_load() {\n",
       "      root._bokeh_is_loading--;\n",
       "      if (root._bokeh_is_loading === 0) {\n",
       "        console.debug(\"Bokeh: all BokehJS libraries/stylesheets loaded\");\n",
       "        run_callbacks()\n",
       "      }\n",
       "    }\n",
       "\n",
       "    function on_error() {\n",
       "      console.error(\"failed to load \" + url);\n",
       "    }\n",
       "\n",
       "    for (var i = 0; i < css_urls.length; i++) {\n",
       "      var url = css_urls[i];\n",
       "      const element = document.createElement(\"link\");\n",
       "      element.onload = on_load;\n",
       "      element.onerror = on_error;\n",
       "      element.rel = \"stylesheet\";\n",
       "      element.type = \"text/css\";\n",
       "      element.href = url;\n",
       "      console.debug(\"Bokeh: injecting link tag for BokehJS stylesheet: \", url);\n",
       "      document.body.appendChild(element);\n",
       "    }\n",
       "\n",
       "    const hashes = {\"https://cdn.bokeh.org/bokeh/release/bokeh-2.1.1.min.js\": \"kLr4fYcqcSpbuI95brIH3vnnYCquzzSxHPU6XGQCIkQRGJwhg0StNbj1eegrHs12\", \"https://cdn.bokeh.org/bokeh/release/bokeh-widgets-2.1.1.min.js\": \"xIGPmVtaOm+z0BqfSOMn4lOR6ciex448GIKG4eE61LsAvmGj48XcMQZtKcE/UXZe\", \"https://cdn.bokeh.org/bokeh/release/bokeh-tables-2.1.1.min.js\": \"Dc9u1wF/0zApGIWoBbH77iWEHtdmkuYWG839Uzmv8y8yBLXebjO9ZnERsde5Ln/P\", \"https://cdn.bokeh.org/bokeh/release/bokeh-gl-2.1.1.min.js\": \"cT9JaBz7GiRXdENrJLZNSC6eMNF3nh3fa5fTF51Svp+ukxPdwcU5kGXGPBgDCa2j\"};\n",
       "\n",
       "    for (var i = 0; i < js_urls.length; i++) {\n",
       "      var url = js_urls[i];\n",
       "      var element = document.createElement('script');\n",
       "      element.onload = on_load;\n",
       "      element.onerror = on_error;\n",
       "      element.async = false;\n",
       "      element.src = url;\n",
       "      if (url in hashes) {\n",
       "        element.crossOrigin = \"anonymous\";\n",
       "        element.integrity = \"sha384-\" + hashes[url];\n",
       "      }\n",
       "      console.debug(\"Bokeh: injecting script tag for BokehJS library: \", url);\n",
       "      document.head.appendChild(element);\n",
       "    }\n",
       "  };\n",
       "\n",
       "  function inject_raw_css(css) {\n",
       "    const element = document.createElement(\"style\");\n",
       "    element.appendChild(document.createTextNode(css));\n",
       "    document.body.appendChild(element);\n",
       "  }\n",
       "\n",
       "  \n",
       "  var js_urls = [\"https://cdn.bokeh.org/bokeh/release/bokeh-2.1.1.min.js\", \"https://cdn.bokeh.org/bokeh/release/bokeh-widgets-2.1.1.min.js\", \"https://cdn.bokeh.org/bokeh/release/bokeh-tables-2.1.1.min.js\", \"https://cdn.bokeh.org/bokeh/release/bokeh-gl-2.1.1.min.js\"];\n",
       "  var css_urls = [];\n",
       "  \n",
       "\n",
       "  var inline_js = [\n",
       "    function(Bokeh) {\n",
       "      Bokeh.set_log_level(\"info\");\n",
       "    },\n",
       "    function(Bokeh) {\n",
       "    \n",
       "    \n",
       "    }\n",
       "  ];\n",
       "\n",
       "  function run_inline_js() {\n",
       "    \n",
       "    if (root.Bokeh !== undefined || force === true) {\n",
       "      \n",
       "    for (var i = 0; i < inline_js.length; i++) {\n",
       "      inline_js[i].call(root, root.Bokeh);\n",
       "    }\n",
       "    if (force === true) {\n",
       "        display_loaded();\n",
       "      }} else if (Date.now() < root._bokeh_timeout) {\n",
       "      setTimeout(run_inline_js, 100);\n",
       "    } else if (!root._bokeh_failed_load) {\n",
       "      console.log(\"Bokeh: BokehJS failed to load within specified timeout.\");\n",
       "      root._bokeh_failed_load = true;\n",
       "    } else if (force !== true) {\n",
       "      var cell = $(document.getElementById(\"1001\")).parents('.cell').data().cell;\n",
       "      cell.output_area.append_execute_result(NB_LOAD_WARNING)\n",
       "    }\n",
       "\n",
       "  }\n",
       "\n",
       "  if (root._bokeh_is_loading === 0) {\n",
       "    console.debug(\"Bokeh: BokehJS loaded, going straight to plotting\");\n",
       "    run_inline_js();\n",
       "  } else {\n",
       "    load_libs(css_urls, js_urls, function() {\n",
       "      console.debug(\"Bokeh: BokehJS plotting callback run at\", now());\n",
       "      run_inline_js();\n",
       "    });\n",
       "  }\n",
       "}(window));"
      ],
      "application/vnd.bokehjs_load.v0+json": "\n(function(root) {\n  function now() {\n    return new Date();\n  }\n\n  var force = true;\n\n  if (typeof root._bokeh_onload_callbacks === \"undefined\" || force === true) {\n    root._bokeh_onload_callbacks = [];\n    root._bokeh_is_loading = undefined;\n  }\n\n  \n\n  \n  if (typeof (root._bokeh_timeout) === \"undefined\" || force === true) {\n    root._bokeh_timeout = Date.now() + 5000;\n    root._bokeh_failed_load = false;\n  }\n\n  var NB_LOAD_WARNING = {'data': {'text/html':\n     \"<div style='background-color: #fdd'>\\n\"+\n     \"<p>\\n\"+\n     \"BokehJS does not appear to have successfully loaded. If loading BokehJS from CDN, this \\n\"+\n     \"may be due to a slow or bad network connection. Possible fixes:\\n\"+\n     \"</p>\\n\"+\n     \"<ul>\\n\"+\n     \"<li>re-rerun `output_notebook()` to attempt to load from CDN again, or</li>\\n\"+\n     \"<li>use INLINE resources instead, as so:</li>\\n\"+\n     \"</ul>\\n\"+\n     \"<code>\\n\"+\n     \"from bokeh.resources import INLINE\\n\"+\n     \"output_notebook(resources=INLINE)\\n\"+\n     \"</code>\\n\"+\n     \"</div>\"}};\n\n  function display_loaded() {\n    var el = document.getElementById(\"1001\");\n    if (el != null) {\n      el.textContent = \"BokehJS is loading...\";\n    }\n    if (root.Bokeh !== undefined) {\n      if (el != null) {\n        el.textContent = \"BokehJS \" + root.Bokeh.version + \" successfully loaded.\";\n      }\n    } else if (Date.now() < root._bokeh_timeout) {\n      setTimeout(display_loaded, 100)\n    }\n  }\n\n\n  function run_callbacks() {\n    try {\n      root._bokeh_onload_callbacks.forEach(function(callback) {\n        if (callback != null)\n          callback();\n      });\n    } finally {\n      delete root._bokeh_onload_callbacks\n    }\n    console.debug(\"Bokeh: all callbacks have finished\");\n  }\n\n  function load_libs(css_urls, js_urls, callback) {\n    if (css_urls == null) css_urls = [];\n    if (js_urls == null) js_urls = [];\n\n    root._bokeh_onload_callbacks.push(callback);\n    if (root._bokeh_is_loading > 0) {\n      console.debug(\"Bokeh: BokehJS is being loaded, scheduling callback at\", now());\n      return null;\n    }\n    if (js_urls == null || js_urls.length === 0) {\n      run_callbacks();\n      return null;\n    }\n    console.debug(\"Bokeh: BokehJS not loaded, scheduling load and callback at\", now());\n    root._bokeh_is_loading = css_urls.length + js_urls.length;\n\n    function on_load() {\n      root._bokeh_is_loading--;\n      if (root._bokeh_is_loading === 0) {\n        console.debug(\"Bokeh: all BokehJS libraries/stylesheets loaded\");\n        run_callbacks()\n      }\n    }\n\n    function on_error() {\n      console.error(\"failed to load \" + url);\n    }\n\n    for (var i = 0; i < css_urls.length; i++) {\n      var url = css_urls[i];\n      const element = document.createElement(\"link\");\n      element.onload = on_load;\n      element.onerror = on_error;\n      element.rel = \"stylesheet\";\n      element.type = \"text/css\";\n      element.href = url;\n      console.debug(\"Bokeh: injecting link tag for BokehJS stylesheet: \", url);\n      document.body.appendChild(element);\n    }\n\n    const hashes = {\"https://cdn.bokeh.org/bokeh/release/bokeh-2.1.1.min.js\": \"kLr4fYcqcSpbuI95brIH3vnnYCquzzSxHPU6XGQCIkQRGJwhg0StNbj1eegrHs12\", \"https://cdn.bokeh.org/bokeh/release/bokeh-widgets-2.1.1.min.js\": \"xIGPmVtaOm+z0BqfSOMn4lOR6ciex448GIKG4eE61LsAvmGj48XcMQZtKcE/UXZe\", \"https://cdn.bokeh.org/bokeh/release/bokeh-tables-2.1.1.min.js\": \"Dc9u1wF/0zApGIWoBbH77iWEHtdmkuYWG839Uzmv8y8yBLXebjO9ZnERsde5Ln/P\", \"https://cdn.bokeh.org/bokeh/release/bokeh-gl-2.1.1.min.js\": \"cT9JaBz7GiRXdENrJLZNSC6eMNF3nh3fa5fTF51Svp+ukxPdwcU5kGXGPBgDCa2j\"};\n\n    for (var i = 0; i < js_urls.length; i++) {\n      var url = js_urls[i];\n      var element = document.createElement('script');\n      element.onload = on_load;\n      element.onerror = on_error;\n      element.async = false;\n      element.src = url;\n      if (url in hashes) {\n        element.crossOrigin = \"anonymous\";\n        element.integrity = \"sha384-\" + hashes[url];\n      }\n      console.debug(\"Bokeh: injecting script tag for BokehJS library: \", url);\n      document.head.appendChild(element);\n    }\n  };\n\n  function inject_raw_css(css) {\n    const element = document.createElement(\"style\");\n    element.appendChild(document.createTextNode(css));\n    document.body.appendChild(element);\n  }\n\n  \n  var js_urls = [\"https://cdn.bokeh.org/bokeh/release/bokeh-2.1.1.min.js\", \"https://cdn.bokeh.org/bokeh/release/bokeh-widgets-2.1.1.min.js\", \"https://cdn.bokeh.org/bokeh/release/bokeh-tables-2.1.1.min.js\", \"https://cdn.bokeh.org/bokeh/release/bokeh-gl-2.1.1.min.js\"];\n  var css_urls = [];\n  \n\n  var inline_js = [\n    function(Bokeh) {\n      Bokeh.set_log_level(\"info\");\n    },\n    function(Bokeh) {\n    \n    \n    }\n  ];\n\n  function run_inline_js() {\n    \n    if (root.Bokeh !== undefined || force === true) {\n      \n    for (var i = 0; i < inline_js.length; i++) {\n      inline_js[i].call(root, root.Bokeh);\n    }\n    if (force === true) {\n        display_loaded();\n      }} else if (Date.now() < root._bokeh_timeout) {\n      setTimeout(run_inline_js, 100);\n    } else if (!root._bokeh_failed_load) {\n      console.log(\"Bokeh: BokehJS failed to load within specified timeout.\");\n      root._bokeh_failed_load = true;\n    } else if (force !== true) {\n      var cell = $(document.getElementById(\"1001\")).parents('.cell').data().cell;\n      cell.output_area.append_execute_result(NB_LOAD_WARNING)\n    }\n\n  }\n\n  if (root._bokeh_is_loading === 0) {\n    console.debug(\"Bokeh: BokehJS loaded, going straight to plotting\");\n    run_inline_js();\n  } else {\n    load_libs(css_urls, js_urls, function() {\n      console.debug(\"Bokeh: BokehJS plotting callback run at\", now());\n      run_inline_js();\n    });\n  }\n}(window));"
     },
     "metadata": {},
     "output_type": "display_data"
    }
   ],
   "source": [
    "output_notebook() #must be included for plot to show in notebook"
   ]
  },
  {
   "cell_type": "code",
   "execution_count": 14,
   "metadata": {
    "scrolled": true
   },
   "outputs": [
    {
     "data": {
      "text/html": [
       "\n",
       "\n",
       "\n",
       "\n",
       "\n",
       "\n",
       "  <div class=\"bk-root\" id=\"670a5179-be81-4e57-b674-21933c08e513\" data-root-id=\"1005\"></div>\n"
      ]
     },
     "metadata": {},
     "output_type": "display_data"
    },
    {
     "data": {
      "application/javascript": [
       "(function(root) {\n",
       "  function embed_document(root) {\n",
       "    \n",
       "  var docs_json = {\"2f04162d-ebb0-4eb5-8693-5f887fb882f6\":{\"roots\":{\"references\":[{\"attributes\":{\"below\":[{\"id\":\"1016\"}],\"center\":[{\"id\":\"1019\"},{\"id\":\"1023\"}],\"left\":[{\"id\":\"1020\"}],\"plot_height\":400,\"plot_width\":800,\"renderers\":[{\"id\":\"1032\"},{\"id\":\"1034\"}],\"title\":{\"id\":\"1006\"},\"toolbar\":{\"id\":\"1025\"},\"x_range\":{\"id\":\"1008\"},\"x_scale\":{\"id\":\"1012\"},\"y_range\":{\"id\":\"1010\"},\"y_scale\":{\"id\":\"1014\"}},\"id\":\"1005\",\"subtype\":\"Figure\",\"type\":\"Plot\"},{\"attributes\":{\"bottom_units\":\"screen\",\"fill_alpha\":0.5,\"fill_color\":\"lightgrey\",\"left_units\":\"screen\",\"level\":\"overlay\",\"line_alpha\":1.0,\"line_color\":\"black\",\"line_dash\":[4,4],\"line_width\":2,\"right_units\":\"screen\",\"top_units\":\"screen\"},\"id\":\"1024\",\"type\":\"BoxAnnotation\"},{\"attributes\":{},\"id\":\"1041\",\"type\":\"UnionRenderers\"},{\"attributes\":{},\"id\":\"1008\",\"type\":\"DataRange1d\"},{\"attributes\":{},\"id\":\"1036\",\"type\":\"BasicTickFormatter\"},{\"attributes\":{\"data_source\":{\"id\":\"1029\"},\"glyph\":{\"id\":\"1030\"},\"hover_glyph\":null,\"muted_glyph\":null,\"nonselection_glyph\":{\"id\":\"1031\"},\"selection_glyph\":null,\"view\":{\"id\":\"1033\"}},\"id\":\"1032\",\"type\":\"GlyphRenderer\"},{\"attributes\":{\"days\":[1,15]},\"id\":\"1049\",\"type\":\"DaysTicker\"},{\"attributes\":{\"num_minor_ticks\":5,\"tickers\":[{\"id\":\"1043\"},{\"id\":\"1044\"},{\"id\":\"1045\"},{\"id\":\"1046\"},{\"id\":\"1047\"},{\"id\":\"1048\"},{\"id\":\"1049\"},{\"id\":\"1050\"},{\"id\":\"1051\"},{\"id\":\"1052\"},{\"id\":\"1053\"},{\"id\":\"1054\"}]},\"id\":\"1017\",\"type\":\"DatetimeTicker\"},{\"attributes\":{\"line_alpha\":0.1,\"line_color\":\"#1f77b4\",\"x\":{\"field\":\"x\"},\"y\":{\"field\":\"y\"}},\"id\":\"1031\",\"type\":\"Line\"},{\"attributes\":{\"months\":[0,1,2,3,4,5,6,7,8,9,10,11]},\"id\":\"1050\",\"type\":\"MonthsTicker\"},{\"attributes\":{\"active_drag\":\"auto\",\"active_inspect\":\"auto\",\"active_multi\":null,\"active_scroll\":\"auto\",\"active_tap\":\"auto\",\"tools\":[{\"id\":\"1002\"},{\"id\":\"1003\"},{\"id\":\"1004\"}]},\"id\":\"1025\",\"type\":\"Toolbar\"},{\"attributes\":{\"line_color\":\"red\",\"location\":0},\"id\":\"1034\",\"type\":\"Span\"},{\"attributes\":{\"axis\":{\"id\":\"1020\"},\"dimension\":1,\"ticker\":null},\"id\":\"1023\",\"type\":\"Grid\"},{\"attributes\":{\"days\":[1,4,7,10,13,16,19,22,25,28]},\"id\":\"1047\",\"type\":\"DaysTicker\"},{\"attributes\":{},\"id\":\"1014\",\"type\":\"LinearScale\"},{\"attributes\":{\"days\":[1,8,15,22]},\"id\":\"1048\",\"type\":\"DaysTicker\"},{\"attributes\":{\"base\":60,\"mantissas\":[1,2,5,10,15,20,30],\"max_interval\":1800000.0,\"min_interval\":1000.0,\"num_minor_ticks\":0},\"id\":\"1044\",\"type\":\"AdaptiveTicker\"},{\"attributes\":{},\"id\":\"1010\",\"type\":\"DataRange1d\"},{\"attributes\":{},\"id\":\"1042\",\"type\":\"Selection\"},{\"attributes\":{\"months\":[0,2,4,6,8,10]},\"id\":\"1051\",\"type\":\"MonthsTicker\"},{\"attributes\":{\"callback\":null},\"id\":\"1003\",\"type\":\"HoverTool\"},{\"attributes\":{\"axis\":{\"id\":\"1016\"},\"ticker\":null},\"id\":\"1019\",\"type\":\"Grid\"},{\"attributes\":{\"overlay\":{\"id\":\"1024\"}},\"id\":\"1002\",\"type\":\"BoxSelectTool\"},{\"attributes\":{},\"id\":\"1021\",\"type\":\"BasicTicker\"},{\"attributes\":{\"line_color\":\"#1f77b4\",\"x\":{\"field\":\"x\"},\"y\":{\"field\":\"y\"}},\"id\":\"1030\",\"type\":\"Line\"},{\"attributes\":{\"text\":\"Monthly Mean Temperature Anomaly (1951-1980 baseline)\",\"text_font_size\":{\"value\":\"14pt\"}},\"id\":\"1006\",\"type\":\"Title\"},{\"attributes\":{},\"id\":\"1054\",\"type\":\"YearsTicker\"},{\"attributes\":{},\"id\":\"1004\",\"type\":\"WheelZoomTool\"},{\"attributes\":{\"months\":[0,6]},\"id\":\"1053\",\"type\":\"MonthsTicker\"},{\"attributes\":{\"axis_label\":\"Temperature (Degrees C)\",\"formatter\":{\"id\":\"1036\"},\"ticker\":{\"id\":\"1021\"}},\"id\":\"1020\",\"type\":\"LinearAxis\"},{\"attributes\":{\"months\":[0,4,8]},\"id\":\"1052\",\"type\":\"MonthsTicker\"},{\"attributes\":{\"axis_label\":\"Year\",\"formatter\":{\"id\":\"1038\"},\"ticker\":{\"id\":\"1017\"}},\"id\":\"1016\",\"type\":\"DatetimeAxis\"},{\"attributes\":{\"source\":{\"id\":\"1029\"}},\"id\":\"1033\",\"type\":\"CDSView\"},{\"attributes\":{},\"id\":\"1012\",\"type\":\"LinearScale\"},{\"attributes\":{\"base\":24,\"mantissas\":[1,2,4,6,8,12],\"max_interval\":43200000.0,\"min_interval\":3600000.0,\"num_minor_ticks\":0},\"id\":\"1045\",\"type\":\"AdaptiveTicker\"},{\"attributes\":{\"days\":[1,2,3,4,5,6,7,8,9,10,11,12,13,14,15,16,17,18,19,20,21,22,23,24,25,26,27,28,29,30,31]},\"id\":\"1046\",\"type\":\"DaysTicker\"},{\"attributes\":{},\"id\":\"1038\",\"type\":\"DatetimeTickFormatter\"},{\"attributes\":{\"mantissas\":[1,2,5],\"max_interval\":500.0,\"num_minor_ticks\":0},\"id\":\"1043\",\"type\":\"AdaptiveTicker\"},{\"attributes\":{\"data\":{\"x\":{\"__ndarray__\":\"AAAAqyyqhMIAAOCBL6WEwgAAgL6EoITCAABglYebhMIAACCfs5aEwgAAAHa2kYTCAADAf+KMhMIAAKBW5YeEwgAAgC3ogoTCAABANxR+hMIAACAOF3mEwgAA4BdDdITCAADA7kVvhMIAAKDFSGqEwgAAIDXHZYTCAAAADMpghMIAAMAV9luEwgAAoOz4VoTCAABg9iRShMIAAEDNJ02EwgAAIKQqSITCAADgrVZDhMIAAMCEWT6EwgAAgI6FOYTCAABgZYg0hMIAAEA8iy+EwgAAwKsJK4TCAACgggwmhMIAAGCMOCGEwgAAQGM7HITCAAAAbWcXhMIAAOBDahKEwgAAwBptDYTCAACAJJkIhMIAAGD7mwOEwgAAIAXI/oPCAAAA3Mr5g8IAAOCyzfSDwgAAYCJM8IPCAABA+U7rg8IAAAADe+aDwgAA4Nl94YPCAACg46ncg8IAAIC6rNeDwgAAYJGv0oPCAAAgm9vNg8IAAABy3siDwgAAwHsKxIPCAACgUg2/g8IAAIApELqDwgAAIGZltYPCAAAAPWiwg8IAAMBGlKuDwgAAoB2XpoPCAABgJ8Ohg8IAAED+xZyDwgAAINXIl4PCAADg3vSSg8IAAMC1942DwgAAgL8jiYPCAABgliaEg8IAAEBtKX+DwgAAwNyneoPCAACgs6p1g8IAAGC91nCDwgAAQJTZa4PCAAAAngVng8IAAOB0CGKDwgAAwEsLXYPCAACAVTdYg8IAAGAsOlODwgAAIDZmToPCAAAADWlJg8IAAODja0SDwgAAYFPqP4PCAABAKu06g8IAAAA0GTaDwgAA4AocMYPCAACgFEgsg8IAAIDrSieDwgAAYMJNIoPCAAAgzHkdg8IAAACjfBiDwgAAwKyoE4PCAACgg6sOg8IAAIBargmDwgAAAMosBYPCAADgoC8Ag8IAAKCqW/uCwgAAgIFe9oLCAABAi4rxgsIAACBijeyCwgAAADmQ54LCAADAQrzigsIAAKAZv92CwgAAYCPr2ILCAABA+u3TgsIAACDR8M6CwgAAwA1GyoLCAACg5EjFgsIAAGDudMCCwgAAQMV3u4LCAAAAz6O2gsIAAOClprGCwgAAwHyprILCAACAhtWngsIAAGBd2KKCwgAAIGcEnoLCAAAAPgeZgsIAAOAUCpSCwgAAYISIj4LCAABAW4uKgsIAAABlt4WCwgAA4Du6gILCAACgReZ7gsIAAIAc6XaCwgAAYPPrcYLCAAAg/RdtgsIAAADUGmiCwgAAwN1GY4LCAACgtElegsIAAICLTFmCwgAAAPvKVILCAADg0c1PgsIAAKDb+UqCwgAAgLL8RYLCAABAvChBgsIAACCTKzyCwgAAAGouN4LCAADAc1oygsIAAKBKXS2CwgAAYFSJKILCAABAK4wjgsIAACACjx6CwgAAoHENGoLCAACASBAVgsIAAEBSPBCCwgAAICk/C4LCAADgMmsGgsIAAMAJbgGCwgAAoOBw/IHCAABg6pz3gcIAAEDBn/KBwgAAAMvL7YHCAADgoc7ogcIAAMB40eOBwgAAYLUm34HCAABAjCnagcIAAACWVdWBwgAA4GxY0IHCAACgdoTLgcIAAIBNh8aBwgAAYCSKwYHCAAAgLra8gcIAAAAFubeBwgAAwA7lsoHCAACg5eetgcIAAIC86qiBwgAAACxppIHCAADgAmyfgcIAAKAMmJqBwgAAgOOalYHCAABA7caQgcIAACDEyYuBwgAAAJvMhoHCAADApPiBgcIAAKB7+3yBwgAAYIUneIHCAABAXCpzgcIAACAzLW6BwgAAoKKraYHCAACAea5kgcIAAECD2l+BwgAAIFrdWoHCAADgYwlWgcIAAMA6DFGBwgAAoBEPTIHCAABgGztHgcIAAEDyPUKBwgAAAPxpPYHCAADg0mw4gcIAAMCpbzOBwgAAQBnuLoHCAAAg8PApgcIAAOD5HCWBwgAAwNAfIIHCAACA2ksbgcIAAGCxThaBwgAAQIhREYHCAAAAkn0MgcIAAOBogAeBwgAAoHKsAoHCAACASa/9gMIAAGAgsviAwgAAAF0H9IDCAADgMwrvgMIAAKA9NuqAwgAAgBQ55YDCAABAHmXggMIAACD1Z9uAwgAAAMxq1oDCAADA1ZbRgMIAAKCsmcyAwgAAYLbFx4DCAABAjcjCgMIAACBky72AwgAAoNNJuYDCAACAqky0gMIAAEC0eK+AwgAAIIt7qoDCAADglKelgMIAAMBrqqCAwgAAoEKtm4DCAABgTNmWgMIAAEAj3JGAwgAAAC0IjYDCAADgAwuIgMIAAMDaDYOAwgAAQEqMfoDCAAAgIY95gMIAAOAqu3SAwgAAwAG+b4DCAACAC+pqgMIAAGDi7GWAwgAAQLnvYIDCAAAAwxtcgMIAAOCZHleAwgAAoKNKUoDCAACAek1NgMIAAGBRUEiAwgAA4MDOQ4DCAADAl9E+gMIAAICh/TmAwgAAYHgANYDCAAAggiwwgMIAAABZLyuAwgAA4C8yJoDCAACgOV4hgMIAAIAQYRyAwgAAQBqNF4DCAAAg8Y8SgMIAAADIkg2AwgAAgDcRCYDCAABgDhQEgMIAAEAwgP5/wgAAAN6F9H/CAACA8d3qf8IAAECf4+B/wgAAAE3p1n/CAACAYEHNf8IAAEAOR8N/wgAAwCGfuX/CAACAz6Svf8IAAEB9qqV/wgAAQFynnH/CAAAACq2Sf8IAAIAdBYl/wgAAQMsKf3/CAADA3mJ1f8IAAICMaGt/wgAAQDpuYX/CAADATcZXf8IAAID7y01/wgAAAA8kRH/CAADAvCk6f8IAAIBqLzB/wgAAgEksJ3/CAABA9zEdf8IAAMAKihN/wgAAgLiPCX/CAAAAzOf/fsIAAMB57fV+wgAAgCfz637CAAAAO0vifsIAAMDoUNh+wgAAQPyozn7CAAAAqq7EfsIAAMBXtLp+wgAAwDaxsX7CAACA5LanfsIAAAD4Dp5+wgAAwKUUlH7CAABAuWyKfsIAAABncoB+wgAAwBR4dn7CAABAKNBsfsIAAADW1WJ+wgAAgOktWX7CAABAlzNPfsIAAABFOUV+wgAAQL7jO37CAAAAbOkxfsIAAIB/QSh+wgAAQC1HHn7CAADAQJ8UfsIAAIDupAp+wgAAQJyqAH7CAADArwL3fcIAAIBdCO19wgAAAHFg433CAADAHmbZfcIAAIDMa899wgAAgKtoxn3CAABAWW68fcIAAMBsxrJ9wgAAgBrMqH3CAAAALiSffcIAAMDbKZV9wgAAgIkvi33CAAAAnYeBfcIAAMBKjXd9wgAAQF7lbX3CAAAADOtjfcIAAMC58Fl9wgAAwJjtUH3CAACARvNGfcIAAABaSz19wgAAwAdRM33CAABAG6kpfcIAAADJrh99wgAAwHa0FX3CAABAigwMfcIAAAA4EgJ9wgAAgEtq+HzCAABA+W/ufMIAAACndeR8wgAAAIZy23zCAADAM3jRfMIAAEBH0Md8wgAAAPXVvXzCAACACC60fMIAAEC2M6p8wgAAAGQ5oHzCAACAd5GWfMIAAEAll4x8wgAAwDjvgnzCAACA5vR4fMIAAECU+m58wgAAgA2lZXzCAABAu6pbfMIAAMDOAlJ8wgAAgHwISHzCAAAAkGA+fMIAAMA9ZjR8wgAAgOtrKnzCAAAA/8MgfMIAAMCsyRZ8wgAAQMAhDXzCAAAAbicDfMIAAMAbLfl7wgAAwPop8HvCAACAqC/me8IAAAC8h9x7wgAAwGmN0nvCAABAfeXIe8IAAAAr6757wgAAwNjwtHvCAABA7Eire8IAAACaTqF7wgAAgK2ml3vCAABAW6yNe8IAAAAJsoN7wgAAAOiuenvCAADAlbRwe8IAAECpDGd7wgAAAFcSXXvCAACAampTe8IAAEAYcEl7wgAAAMZ1P3vCAACA2c01e8IAAECH0yt7wgAAwJorInvCAACASDEYe8IAAED2Ng57wgAAQNUzBXvCAAAAgzn7esIAAICWkfF6wgAAQESX53rCAADAV+/desIAAIAF9dN6wgAAQLP6yXrCAADAxlLAesIAAIB0WLZ6wgAAAIiwrHrCAADANbaiesIAAIDju5h6wgAAwFxmj3rCAACACmyFesIAAAAexHt6wgAAwMvJcXrCAABA3yFoesIAAACNJ156wgAAwDotVHrCAABAToVKesIAAAD8ikB6wgAAgA/jNnrCAABAvegsesIAAABr7iJ6wgAAAErrGXrCAADA9/APesIAAEALSQZ6wgAAALlO/HnCAACAzKbyecIAAEB6rOh5wgAAACiy3nnCAACAOwrVecIAAEDpD8t5wgAAwPxnwXnCAACAqm23ecIAAEBYc615wgAAQDdwpHnCAAAA5XWaecIAAID4zZB5wgAAQKbThnnCAADAuSt9ecIAAIBnMXN5wgAAQBU3aXnCAADAKI9fecIAAIDWlFV5wgAAAOrsS3nCAADAl/JBecIAAIBF+Dd5wgAAgCT1LnnCAABA0vokecIAAMDlUht5wgAAgJNYEXnCAAAAp7AHecIAAMBUtv14wgAAgAK883jCAAAAFhTqeMIAAMDDGeB4wgAAQNdx1njCAAAAhXfMeMIAAMAyfcJ4wgAAAKwnuXjCAADAWS2veMIAAEBthaV4wgAAABuLm3jCAACALuOReMIAAEDc6Id4wgAAAIrufXjCAACAnUZ0eMIAAEBLTGp4wgAAwF6kYHjCAACADKpWeMIAAEC6r0x4wgAAQJmsQ3jCAAAAR7I5eMIAAIBaCjB4wgAAQAgQJnjCAADAG2gceMIAAIDJbRJ4wgAAQHdzCHjCAADAisv+d8IAAIA40fR3wgAAAEwp63fCAADA+S7hd8IAAICnNNd3wgAAgIYxznfCAABANDfEd8IAAMBHj7p3wgAAgPWUsHfCAAAACe2md8IAAMC28px3wgAAgGT4knfCAAAAeFCJd8IAAMAlVn93wgAAQDmudXfCAAAA57Nrd8IAAMCUuWF3wgAAwHO2WHfCAACAIbxOd8IAAAA1FEV3wgAAwOIZO3fCAABA9nExd8IAAACkdyd3wgAAwFF9HXfCAABAZdUTd8IAAAAT2wl3wgAAgCYzAHfCAABA1Dj2dsIAAACCPux2wgAAQPvo4nbCAAAAqe7YdsIAAIC8Rs92wgAAQGpMxXbCAADAfaS7dsIAAIArqrF2wgAAQNmvp3bCAADA7AeedsIAAICaDZR2wgAAAK5linbCAADAW2uAdsIAAIAJcXZ2wgAAgOhtbXbCAABAlnNjdsIAAMCpy1l2wgAAgFfRT3bCAAAAaylGdsIAAMAYLzx2wgAAgMY0MnbCAAAA2owodsIAAMCHkh52wgAAQJvqFHbCAAAASfAKdsIAAMD29QB2wgAAwNXy93XCAACAg/jtdcIAAACXUOR1wgAAwERW2nXCAABAWK7QdcIAAAAGtMZ1wgAAwLO5vHXCAABAxxGzdcIAAAB1F6l1wgAAgIhvn3XCAABANnWVdcIAAADkeot1wgAAAMN3gnXCAADAcH14dcIAAECE1W51wgAAADLbZHXCAACARTNbdcIAAEDzOFF1wgAAAKE+R3XCAACAtJY9dcIAAEBinDN1wgAAwHX0KXXCAACAI/ofdcIAAEDR/xV1wgAAgEqqDHXCAABA+K8CdcIAAMALCPl0wgAAgLkN73TCAAAAzWXldMIAAMB6a9t0wgAAgChx0XTCAAAAPMnHdMIAAMDpzr10wgAAQP0mtHTCAAAAqyyqdMIAAMBYMqB0wgAAwDcvl3TCAACA5TSNdMIAAAD5jIN0wgAAwKaSeXTCAABAuupvdMIAAABo8GV0wgAAwBX2W3TCAABAKU5SdMIAAADXU0h0wgAAgOqrPnTCAABAmLE0dMIAAABGtyp0wgAAACW0IXTCAADA0rkXdMIAAEDmEQ50wgAAAJQXBHTCAACAp2/6c8IAAEBVdfBzwgAAAAN75nPCAACAFtPcc8IAAEDE2NJzwgAAwNcwyXPCAACAhTa/c8IAAEAzPLVzwgAAQBI5rHPCAAAAwD6ic8IAAIDTlphzwgAAQIGcjnPCAADAlPSEc8IAAIBC+npzwgAAQPD/cHPCAADAA1hnc8IAAICxXV1zwgAAAMW1U3PCAADAcrtJc8IAAIAgwT9zwgAAwJlrNnPCAACAR3Esc8IAAABbySJzwgAAwAjPGHPCAABAHCcPc8IAAADKLAVzwgAAwHcy+3LCAABAi4rxcsIAAAA5kOdywgAAgEzo3XLCAABA+u3TcsIAAACo88lywgAAAIfwwHLCAADANPa2csIAAEBITq1ywgAAAPZTo3LCAACACayZcsIAAEC3sY9ywgAAAGW3hXLCAACAeA98csIAAEAmFXJywgAAwDltaHLCAACA53JecsIAAECVeFRywgAAQHR1S3LCAAAAIntBcsIAAIA10zdywgAAQOPYLXLCAADA9jAkcsIAAICkNhpywgAAQFI8EHLCAADAZZQGcsIAAIATmvxxwgAAACfy8nHCAADA1PfoccIAAICC/d5xwgAAgGH61XHCAABADwDMccIAAMAiWMJxwgAAgNBduHHCAAAA5LWuccIAAMCRu6RxwgAAgD/BmnHCAAAAUxmRccIAAMAAH4dxwgAAQBR3fXHCAAAAwnxzccIAAMBvgmlxwgAAAOksYHHCAADAljJWccIAAECqikxxwgAAAFiQQnHCAACAa+g4ccIAAEAZ7i5xwgAAAMfzJHHCAACA2ksbccIAAECIURFxwgAAwJupB3HCAACASa/9cMIAAED3tPNwwgAAQNax6nDCAAAAhLfgcMIAAICXD9dwwgAAQEUVzXDCAADAWG3DcMIAAIAGc7lwwgAAQLR4r3DCAADAx9ClcMIAAIB11ptwwgAAAIkuknDCAADANjSIcMIAAIDkOX5wwgAAgMM2dXDCAABAcTxrcMIAAMCElGFwwgAAgDKaV3DCAAAARvJNcMIAAMDz90NwwgAAgKH9OXDCAAAAtVUwcMIAAMBiWyZwwgAAQHazHHDCAAAAJLkScMIAAMDRvghwwgAAgGF3/2/CAAAAvYLrb8IAAADkMthvwgAAgD8+xG/CAACAZu6wb8IAAADC+ZxvwgAAgB0FiW/CAACARLV1b8IAAACgwGFvwgAAAMdwTm/CAACAInw6b8IAAAB+hyZvwgAAgHDcE2/CAAAAzOf/bsIAAADzl+xuwgAAgE6j2G7CAACAdVPFbsIAAADRXrFuwgAAgCxqnW7CAACAUxqKbsIAAACvJXZuwgAAANbVYm7CAACAMeFObsIAAACN7DpuwgAAAEvmKG7CAACApvEUbsIAAIDNoQFuwgAAACmt7W3CAAAAUF3abcIAAICraMZtwgAAAAd0sm3CAAAALiSfbcIAAICJL4ttwgAAgLDfd23CAAAADOtjbcIAAIBn9k9twgAAgCXwPW3CAAAAgfspbcIAAACoqxZtwgAAgAO3Am3CAACAKmfvbMIAAACGcttswgAAgOF9x2zCAACACC60bMIAAABkOaBswgAAAIvpjGzCAACA5vR4bMIAAABCAGVswgAAAAD6UmzCAACAWwU/bMIAAICCtStswgAAAN7AF2zCAAAABXEEbMIAAIBgfPBrwgAAALyH3GvCAAAA4zfJa8IAAIA+Q7VrwgAAgGXzoWvCAAAAwf6Na8IAAIAcCnprwgAAAA9fZ2vCAACAampTa8IAAICRGkBrwgAAAO0lLGvCAAAAFNYYa8IAAIBv4QRrwgAAAMvs8GrCAAAA8pzdasIAAIBNqMlqwgAAgHRYtmrCAAAA0GOiasIAAIArb45qwgAAgOlofGrCAAAARXRoasIAAABsJFVqwgAAgMcvQWrCAACA7t8tasIAAABK6xlqwgAAgKX2BWrCAACAzKbyacIAAAAost5pwgAAAE9iy2nCAACAqm23acIAAAAGeaNpwgAAAMRykWnCAACAH359acIAAIBGLmppwgAAAKI5VmnCAAAAyelCacIAAIAk9S5pwgAAAIAAG2nCAAAAp7AHacIAAIACvPNowgAAgCls4GjCAAAAhXfMaMIAAIDggrhowgAAgJ58pmjCAAAA+oeSaMIAAAAhOH9owgAAgHxDa2jCAACAo/NXaMIAAAD//kNowgAAgFoKMGjCAACAgbocaMIAAADdxQhowgAAAAR29WfCAACAX4HhZ8IAAAC7jM1nwgAAgK3humfCAAAACe2mZ8IAAAAwnZNnwgAAgIuof2fCAACAslhsZ8IAAAAOZFhnwgAAgGlvRGfCAACAkB8xZ8IAAADsKh1nwgAAABPbCWfCAACAbub1ZsIAAADK8eFmwgAAAIjrz2bCAACA4/a7ZsIAAIAKp6hmwgAAAGaylGbCAAAAjWKBZsIAAIDobW1mwgAAAER5WWbCAAAAaylGZsIAAIDGNDJmwgAAgO3kHmbCAAAASfAKZsIAAICk+/ZlwgAAgGL15GXCAAAAvgDRZcIAAADlsL1lwgAAgEC8qWXCAACAZ2yWZcIAAADDd4JlwgAAgB6DbmXCAACARTNbZcIAAAChPkdlwgAAAMjuM2XCAACAI/ofZcIAAAB/BQxlwgAAAD3/+WTCAACAmArmZMIAAIC/utJkwgAAABvGvmTCAAAAQnarZMIAAICdgZdkwgAAAPmMg2TCAAAAID1wZMIAAIB7SFxkwgAAgKL4SGTCAAAA/gM1ZMIAAIBZDyFkwgAAAExkDmTCAACAp2/6Y8IAAIDOH+djwgAAACor02PCAAAAUdu/Y8IAAICs5qtjwgAAAAjyl2PCAAAAL6KEY8IAAICKrXBjwgAAgLFdXWPCAAAADWlJY8IAAIBodDVjwgAAgCZuI2PCAAAAgnkPY8IAAACpKfxiwgAAgAQ16GLCAACAK+XUYsIAAACH8MBiwgAAgOL7rGLCAACACayZYsIAAABlt4ViwgAAAIxncmLCAACA53JeYsIAAABDfkpiwgAAAAF4OGLCAACAXIMkYsIAAICDMxFiwgAAAN8+/WHCAAAABu/pYcIAAIBh+tVhwgAAAL0FwmHCAAAA5LWuYcIAAIA/wZphwgAAgGZxh2HCAAAAwnxzYcIAAIAdiF9hwgAAgNuBTWHCAAAAN405YcIAAABePSZhwgAAgLlIEmHCAACA4Pj+YMIAAAA8BOtgwgAAgJcP12DCAACAvr/DYMIAAAAay69gwgAAAEF7nGDCAACAnIaIYMIAAAD4kXRgwgAAgOrmYWDCAAAARvJNYMIAAABtojpgwgAAgMitJmDCAACA710TYMIAAACW0v5fwgAAAE3p1l/CAAAAm0mwX8IAAABSYIhfwgAAAKDAYV/CAAAAV9c5X8IAAAAO7hFfwgAAAIrh7V7CAAAAQfjFXsIAAACPWJ9ewgAAAEZvd17CAAAAlM9QXsIAAABL5ihewgAAAAL9AF7CAAAAUF3aXcIAAAAHdLJdwgAAAFXUi13CAAAADOtjXcIAAADDATxdwgAAAD/1F13CAAAA9gvwXMIAAABEbMlcwgAAAPuCoVzCAAAASeN6XMIAAAAA+lJcwgAAALcQK1zCAAAABXEEXMIAAAC8h9xbwgAAAArotVvCAAAAwf6NW8IAAAB4FWZbwgAAAPQIQlvCAAAAqx8aW8IAAAD5f/NawgAAALCWy1rCAAAA/vakWsIAAAC1DX1awgAAAGwkVVrCAAAAuoQuWsIAAABxmwZawgAAAL/731nCAAAAdhK4WcIAAAAtKZBZwgAAABLTalnCAAAAyelCWcIAAAAXShxZwgAAAM5g9FjCAAAAHMHNWMIAAADT16VYwgAAAIrufVjCAAAA2E5XWMIAAACPZS9YwgAAAN3FCFjCAAAAlNzgV8IAAABL87hXwgAAAMfmlFfCAAAAfv1sV8IAAADMXUZXwgAAAIN0HlfCAAAA0dT3VsIAAACI689WwgAAAD8CqFbCAAAAjWKBVsIAAABEeVlWwgAAAJLZMlbCAAAASfAKVsIAAAAAB+NVwgAAAHz6vlXCAAAAMxGXVcIAAACBcXBVwgAAADiISFXCAAAAhughVcIAAAA9//lUwgAAAPQV0lTCAAAAQnarVMIAAAD5jINUwgAAAEftXFTCAAAA/gM1VMIAAAC1Gg1UwgAAADEO6VPCAAAA6CTBU8IAAAA2hZpTwgAAAO2bclPCAAAAO/xLU8IAAADyEiRTwgAAAKkp/FLCAAAA94nVUsIAAACuoK1SwgAAAPwAh1LCAAAAsxdfUsIAAABqLjdSwgAAAE/YEVLCAAAABu/pUcIAAABUT8NRwgAAAAtmm1HCAAAAWcZ0UcIAAAAQ3UxRwgAAAMfzJFHCAAAAFVT+UMIAAADMatZQwgAAABrLr1DCAAAA0eGHUMIAAACI+F9QwgAAAATsO1DCAAAAuwIUUMIAAAASxtpPwgAAAIDzik/CAAAAHLQ9T8IAAACK4e1OwgAAAPgOnk7CAAAAlM9QTsIAAAAC/QBOwgAAAJ69s03CAAAADOtjTcIAAAB6GBRNwgAAAHL/y0zCAAAA4Cx8TMIAAAB87S5MwgAAAOoa30vCAAAAhtuRS8IAAAD0CEJLwgAAAGI28krCAAAA/vakSsIAAABsJFVKwgAAAAjlB0rCAAAAdhK4ScIAAADkP2hJwgAAANwmIEnCAAAASlTQSMIAAADmFINIwgAAAFRCM0jCAAAA8ALmR8IAAABeMJZHwgAAAMxdRkfCAAAAaB75RsIAAADWS6lGwgAAAHIMXEbCAAAA4DkMRsIAAABOZ7xFwgAAABi7cUXCAAAAhughRcIAAAAiqdREwgAAAJDWhETCAAAALJc3RMIAAACaxOdDwgAAAAjyl0PCAAAApLJKQ8IAAAAS4PpCwgAAAK6grULCAAAAHM5dQsIAAACK+w1CwgAAAILixUHCAAAA8A92QcIAAACM0ChBwgAAAPr92EDCAAAAlr6LQMIAAAAE7DtAwgAAAOQy2D/CAAAAHLQ9P8IAAAD4Dp4+wgAAADCQAz7CAAAADOtjPcIAAADoRcQ8wgAAANgTNDzCAAAAtG6UO8IAAADs7/k6wgAAAMhKWjrCAAAAAMy/OcIAAADcJiA5wgAAALiBgDjCAAAA8ALmN8IAAADMXUY3wgAAAATfqzbCAAAA4DkMNsIAAAC8lGw1wgAAAKxi3DTCAAAAiL08NMIAAADAPqIzwgAAAJyZAjPCAAAA1BpoMsIAAACwdcgxwgAAAIzQKDHCAAAAxFGOMMIAAABAWd0vwgAAALBbqC7CAAAAaBFpLcIAAAAgxykswgAAAEgW/yrCAAAAAMy/KcIAAABwzooowgAAACiESyfCAAAAmIYWJsIAAABQPNckwgAAAAjylyPCAAAAePRiIsIAAAAwqiMhwgAAAEBZ3R/CAAAAsMReHcIAAAAgMOAawgAAAOBnnxjCAAAAUNMgFsIAAAAw2LYTwgAAAKBDOBHCAAAAAJGcDcIAAADgZ58IwgAAAMA+ogPCAAAAAJGc/cEAAADAPqLzwQAAAICk9OPBAAAAAAAAAAAAAACApPTjQQAAAEBz/fJBAAAAgMX3/EEAAAAA2U8DQgAAACACTQhCAAAAYPggDUIAAADAEA8RQgAAAFCljRNCAAAAcKD3FUIAAAAANXYYQgAAACAw4BpCAAAAsMReHUIAAABAWd0fQgAAAMAQDyFCAAAACFtOIkIAAACYWIMjQgAAAOCiwiRCAAAAcKD3JUIAAAC46jYnQgAAAAA1dihCAAAAkDKrKUIAAADYfOoqQgAAAGh6HyxCAAAAsMReLUIAAAD4Dp4uQgAAANC/yC9CAAAADAWEMEIAAADUgx4xQgAAAPgovjFCAAAAwKdYMkIAAADkTPgyQgAAAAjylzNCAAAA0HAyNEIAAAD0FdI0QgAAALyUbDVCAAAA4DkMNkIAAAAE36s2QgAAABQRPDdCAAAAOLbbN0IAAAAANXY4QgAAACTaFTlCAAAA7FiwOUIAAAAQ/k86QgAAADSj7zpCAAAA/CGKO0IAAAAgxyk8QgAAAOhFxDxCAAAADOtjPUIAAAAwkAM+QgAAAEDCkz5CAAAAZGczP0IAAAAs5s0/QgAAAKjFNkBCAAAADAWEQEIAAACe19NAQgAAADCqI0FCAAAAlOlwQUIAAAAmvMBBQgAAAIr7DUJCAAAAHM5dQkIAAACuoK1CQgAAALa59UJCAAAASIxFQ0IAAACsy5JDQgAAAD6e4kNCAAAAot0vREIAAAA0sH9EQgAAAMaCz0RCAAAAKsIcRUIAAAC8lGxFQgAAACDUuUVCAAAAsqYJRkIAAABEeVlGQgAAAHolpEZCAAAADPjzRkIAAABwN0FHQgAAAAIKkUdCAAAAZkneR0IAAAD4Gy5IQgAAAIrufUhCAAAA7i3LSEIAAACAABtJQgAAAOQ/aElCAAAAdhK4SUIAAAAI5QdKQgAAABD+T0pCAAAAotCfSkIAAAAGEO1KQgAAAJjiPEtCAAAA/CGKS0IAAACO9NlLQgAAACDHKUxCAAAAhAZ3TEIAAAAW2cZMQgAAAHoYFE1CAAAADOtjTUIAAACevbNNQgAAAKbW+01CAAAAOKlLTkIAAACc6JhOQgAAAC676E5CAAAAkvo1T0IAAAAkzYVPQgAAALaf1U9CAAAAjW8RUEIAAADWWDlQQgAAAIj4X1BCAAAA0eGHUEIAAAAay69QQgAAAJ7X01BCAAAA58D7UEIAAACZYCJRQgAAAOJJSlFCAAAAlOlwUUIAAADd0phRQgAAACa8wFFCAAAA2FvnUUIAAAAhRQ9SQgAAANPkNVJCAAAAHM5dUkIAAABlt4VSQgAAAIANq1JCAAAAyfbSUkIAAAB7lvlSQgAAAMR/IVNCAAAAdh9IU0IAAAC/CHBTQgAAAAjyl1NCAAAAupG+U0IAAAADe+ZTQgAAALUaDVRCAAAA/gM1VEIAAABH7VxUQgAAAMv5gFRCAAAAFOOoVEIAAADGgs9UQgAAAA9s91RCAAAAwQseVUIAAAAK9UVVQgAAAFPebVVCAAAABX6UVUIAAABOZ7xVQgAAAAAH41VCAAAASfAKVkIAAACS2TJWQgAAABbmVlZCAAAAX89+VkIAAAARb6VWQgAAAFpYzVZCAAAADPjzVkIAAABV4RtXQgAAAJ7KQ1dCAAAAUGpqV0IAAACZU5JXQgAAAEvzuFdCAAAAlNzgV0IAAADdxQhYQgAAAGHSLFhCAAAAqrtUWEIAAABcW3tYQgAAAKVEo1hCAAAAV+TJWEIAAACgzfFYQgAAAOm2GVlCAAAAm1ZAWUIAAADkP2hZQgAAAJbfjllCAAAA38i2WUIAAAAost5ZQgAAAEMIBFpCAAAAjPErWkIAAAA+kVJaQgAAAId6elpCAAAAORqhWkIAAACCA8laQgAAAMvs8FpCAAAAfYwXW0IAAADGdT9bQgAAAHgVZltCAAAAwf6NW0IAAAAK6LVbQgAAAI702VtCAAAA190BXEIAAACJfShcQgAAANJmUFxCAAAAhAZ3XEIAAADN755cQgAAABbZxlxCAAAAyHjtXEIAAAARYhVdQgAAAMMBPF1CAAAADOtjXUIAAABV1ItdQgAAANngr11CAAAAIsrXXUIAAADUaf5dQgAAAB1TJl5CAAAAz/JMXkIAAAAY3HReQgAAAGHFnF5CAAAAE2XDXkIAAABcTuteQgAAAA7uEV9CAAAAV9c5X0IAAACgwGFfQgAAACTNhV9CAAAAbbatX0IAAAAfVtRfQgAAAGg//F9CAAAAjW8RYEIAAIAxZCVgQgAAANZYOWBCAAAAr6hMYEIAAIBTnWBgQgAAgCztc2BCAAAA0eGHYEIAAIB11ptgQgAAAIOBrmBCAACAJ3bCYEIAAIAAxtVgQgAAAKW66WBCAAAAfgr9YEIAAIAi/xBhQgAAAMfzJGFCAAAAoEM4YUIAAIBEOExhQgAAgB2IX2FCAAAAwnxzYUIAAIBmcYdhQgAAgKh3mWFCAAAATWytYUIAAAAmvMBhQgAAgMqw1GFCAACAowDoYUIAAABI9fthQgAAgOzpD2JCAACAxTkjYkIAAABqLjdiQgAAAEN+SmJCAACA53JeYkIAAACMZ3JiQgAAAM5thGJCAACAcmKYYkIAAIBLsqtiQgAAAPCmv2JCAAAAyfbSYkIAAIBt6+ZiQgAAABLg+mJCAAAA6y8OY0IAAICPJCJjQgAAgGh0NWNCAAAADWlJY0IAAICxXV1jQgAAgPNjb2NCAAAAmFiDY0IAAABxqJZjQgAAgBWdqmNCAACA7uy9Y0IAAACT4dFjQgAAgDfW5WNCAACAECb5Y0IAAAC1Gg1kQgAAAI5qIGRCAACAMl80ZEIAAADXU0hkQgAAgOT+WmRCAAAAifNuZEIAAABiQ4JkQgAAgAY4lmRCAACA34epZEIAAACEfL1kQgAAgChx0WRCAACAAcHkZEIAAACmtfhkQgAAAH8FDGVCAACAI/ofZUIAAADI7jNlQgAAAAr1RWVCAACArulZZUIAAICHOW1lQgAAACwugWVCAAAABX6UZUIAAICpcqhlQgAAAE5nvGVCAAAAJ7fPZUIAAIDLq+NlQgAAgKT79mVCAAAASfAKZkIAAIDt5B5mQgAAgC/rMGZCAAAA1N9EZkIAAACtL1hmQgAAgFEkbGZCAACAKnR/ZkIAAADPaJNmQgAAgHNdp2ZCAACATK26ZkIAAADxoc5mQgAAAMrx4WZCAACAbub1ZkIAAAAT2wlnQgAAAFXhG2dCAACA+dUvZ0IAAIDSJUNnQgAAAHcaV2dCAAAAUGpqZ0IAAID0Xn5nQgAAAJlTkmdCAAAAcqOlZ0IAAIAWmLlnQgAAgO/nzGdCAAAAlNzgZ0IAAIA40fRnQgAAAEZ8B2hCAACA6nAbaEIAAIDDwC5oQgAAAGi1QmhCAAAAQQVWaEIAAIDl+WloQgAAAIrufWhCAAAAYz6RaEIAAIAHM6VoQgAAgOCCuGhCAAAAhXfMaEIAAIApbOBoQgAAgGty8mhCAAAAEGcGaUIAAADpthlpQgAAgI2rLWlCAACAZvtAaUIAAAAL8FRpQgAAgK/kaGlCAACAiDR8aUIAAAAtKZBpQgAAAAZ5o2lCAACAqm23aUIAAABPYstpQgAAAJFo3WlCAACANV3xaUIAAIAOrQRqQgAAALOhGGpCAAAAjPErakIAAIAw5j9qQgAAANXaU2pCAAAAripnakIAAIBSH3tqQgAAgCtvjmpCAAAA0GOiakIAAIB0WLZqQgAAgLZeyGpCAAAAW1PcakIAAAA0o+9qQgAAgNiXA2tCAACAsecWa0IAAABW3CprQgAAgPrQPmtCAACA0yBSa0IAAAB4FWZrQgAAAFFleWtCAACA9VmNa0IAAACaTqFrQgAAgKf5s2tCAAAATO7Ha0IAAAAlPttrQgAAgMky72tCAACAooICbEIAAABHdxZsQgAAgOtrKmxCAACAxLs9bEIAAABpsFFsQgAAAEIAZWxCAACA5vR4bEIAAACL6YxsQgAAAM3vnmxCAACAceSybEIAAIBKNMZsQgAAAO8o2mxCAAAAyHjtbEIAAIBsbQFtQgAAABFiFW1CAAAA6rEobUIAAICOpjxtQgAAgGf2T21CAAAADOtjbUIAAICw33dtQgAAgPLliW1CAAAAl9qdbUIAAABwKrFtQgAAgBQfxW1CAACA7W7YbUIAAACSY+xtQgAAgDZYAG5CAACAD6gTbkIAAAC0nCduQgAAAI3sOm5CAACAMeFObkIAAADW1WJuQgAAABjcdG5CAACAvNCIbkIAAICVIJxuQgAAADoVsG5CAAAAE2XDbkIAAIC3WdduQgAAAFxO625CAAAANZ7+bkIAAIDZkhJvQgAAgLLiJW9CAAAAV9c5b0IAAID7y01vQgAAAAl3YG9CAACArWt0b0IAAICGu4dvQgAAACuwm29CAAAABACvb0IAAICo9MJvQgAAAE3p1m9CAAAAJjnqb0IAAIDKLf5vQgAAwNG+CHBCAAAAJLkScEIAAEB2sxxwQgAAQJe2JXBCAACA6bAvcEIAAADWWDlwQgAAQChTQ3BCAADAFPtMcEIAAABn9VZwQgAAQLnvYHBCAADApZdqcEIAAAD4kXRwQgAAgOQ5fnBCAADANjSIcEIAAACJLpJwQgAAAKoxm3BCAABA/CulcEIAAMDo065wQgAAADvOuHBCAACAJ3bCcEIAAMB5cMxwQgAAAMxq1nBCAACAuBLgcEIAAMAKDepwQgAAQPe083BCAACASa/9cEIAAMCbqQdxQgAAwLysEHFCAAAAD6cacUIAAID7TiRxQgAAwE1JLnFCAABAOvE3cUIAAICM60FxQgAAwN7lS3FCAABAy41VcUIAAIAdiF9xQgAAAAowaXFCAABAXCpzcUIAAICuJH1xQgAAQDV6hnFCAACAh3SQcUIAAAB0HJpxQgAAQMYWpHFCAADAsr6tcUIAAAAFubdxQgAAQFezwXFCAADAQ1vLcUIAAACWVdVxQgAAgIL93nFCAADA1PfocUIAAAAn8vJxQgAAAEj1+3FCAABAmu8FckIAAMCGlw9yQgAAANmRGXJCAACAxTkjckIAAMAXNC1yQgAAAGouN3JCAACAVtZAckIAAMCo0EpyQgAAQJV4VHJCAACA53JeckIAAMA5bWhyQgAAwFpwcXJCAAAArWp7ckIAAICZEoVyQgAAwOsMj3JCAABA2LSYckIAAIAqr6JyQgAAwHyprHJCAABAaVG2ckIAAIC7S8ByQgAAAKjzyXJCAABA+u3TckIAAIBM6N1yQgAAgG3r5nJCAADAv+XwckIAAECsjfpyQgAAgP6HBHNCAAAA6y8Oc0IAAEA9KhhzQgAAgI8kInNCAAAAfMwrc0IAAEDOxjVzQgAAwLpuP3NCAAAADWlJc0IAAEBfY1NzQgAAAOa4XHNCAABAOLNmc0IAAMAkW3BzQgAAAHdVenNCAACAY/2Dc0IAAMC1941zQgAAAAjyl3NCAACA9Jmhc0IAAMBGlKtzQgAAQDM8tXNCAACAhTa/c0IAAMDXMMlzQgAAwPgz0nNCAAAASy7cc0IAAIA31uVzQgAAwInQ73NCAABAdnj5c0IAAIDIcgN0QgAAwBptDXRCAABABxUXdEIAAIBZDyF0QgAAAEa3KnRCAABAmLE0dEIAAIDqqz50QgAAgAuvR3RCAADAXalRdEIAAEBKUVt0QgAAgJxLZXRCAAAAifNudEIAAEDb7Xh0QgAAgC3ognRCAAAAGpCMdEIAAEBsipZ0QgAAwFgyoHRCAAAAqyyqdEIAAED9JrR0QgAAQB4qvXRCAACAcCTHdEIAAABdzNB0QgAAQK/G2nRCAADAm27kdEIAAADuaO50QgAAQEBj+HRCAADALAsCdUIAAAB/BQx1QgAAgGutFXVCAADAvacfdUIAAAAQoil1QgAAwJb3MnVCAAAA6fE8dUIAAIDVmUZ1QgAAwCeUUHVCAABAFDxadUIAAIBmNmR1QgAAwLgwbnVCAABApdh3dUIAAID30oF1QgAAAOR6i3VCAABANnWVdUIAAICIb591QgAAgKlyqHVCAADA+2yydUIAAEDoFLx1QgAAgDoPxnVCAAAAJ7fPdUIAAEB5sdl1QgAAgMur43VCAAAAuFPtdUIAAEAKTvd1QgAAwPb1AHZCAAAASfAKdkIAAECb6hR2QgAAQLztHXZCAACADugndkIAAAD7jzF2QgAAQE2KO3ZCAADAOTJFdkIAAACMLE92QgAAQN4mWXZCAADAys5idkIAAAAdyWx2QgAAgAlxdnZCAADAW2uAdkIAAACuZYp2QgAAAM9ok3ZCAABAIWOddkIAAMANC6d2QgAAAGAFsXZCAACATK26dkI=\",\"dtype\":\"float64\",\"order\":\"little\",\"shape\":[1675]},\"y\":{\"__ndarray__\":\"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\",\"dtype\":\"float64\",\"order\":\"little\",\"shape\":[1675]}},\"selected\":{\"id\":\"1042\"},\"selection_policy\":{\"id\":\"1041\"}},\"id\":\"1029\",\"type\":\"ColumnDataSource\"}],\"root_ids\":[\"1005\"]},\"title\":\"Bokeh Application\",\"version\":\"2.1.1\"}};\n",
       "  var render_items = [{\"docid\":\"2f04162d-ebb0-4eb5-8693-5f887fb882f6\",\"root_ids\":[\"1005\"],\"roots\":{\"1005\":\"670a5179-be81-4e57-b674-21933c08e513\"}}];\n",
       "  root.Bokeh.embed.embed_items_notebook(docs_json, render_items);\n",
       "\n",
       "  }\n",
       "  if (root.Bokeh !== undefined) {\n",
       "    embed_document(root);\n",
       "  } else {\n",
       "    var attempts = 0;\n",
       "    var timer = setInterval(function(root) {\n",
       "      if (root.Bokeh !== undefined) {\n",
       "        clearInterval(timer);\n",
       "        embed_document(root);\n",
       "      } else {\n",
       "        attempts++;\n",
       "        if (attempts > 100) {\n",
       "          clearInterval(timer);\n",
       "          console.log(\"Bokeh: ERROR: Unable to run BokehJS code because BokehJS library is missing\");\n",
       "        }\n",
       "      }\n",
       "    }, 10, root)\n",
       "  }\n",
       "})(window);"
      ],
      "application/vnd.bokehjs_exec.v0+json": ""
     },
     "metadata": {
      "application/vnd.bokehjs_exec.v0+json": {
       "id": "1005"
      }
     },
     "output_type": "display_data"
    }
   ],
   "source": [
    "from bokeh.models import HoverTool, BoxSelectTool, WheelZoomTool\n",
    "tools = [BoxSelectTool(), HoverTool(), WheelZoomTool()]\n",
    "\n",
    "p = figure(plot_width = 800, plot_height=400,\n",
    "           title ='Monthly Mean Temperature Anomaly (1951-1980 baseline)',\n",
    "           x_axis_type=\"datetime\", tools = tools) \n",
    "\n",
    "p.line(df2['Date'], df2['Value'])  \n",
    "\n",
    "hline = Span(location=0, dimension='width', \n",
    "             line_color='red', \n",
    "             line_width=1) #red line at 0\n",
    "\n",
    "p.renderers.extend([hline]) #add line to the plot\n",
    "p.xaxis.axis_label = 'Year'\n",
    "p.yaxis.axis_label = 'Temperature (Degrees C)'\n",
    "p.title.text_font_size = '14pt'\n",
    "#output_notebook('monthanomaly.html')      \n",
    "show(p)"
   ]
  },
  {
   "cell_type": "markdown",
   "metadata": {},
   "source": [
    "### Annual Temperature Anomaly"
   ]
  },
  {
   "cell_type": "code",
   "execution_count": 15,
   "metadata": {},
   "outputs": [
    {
     "data": {
      "text/html": [
       "\n",
       "\n",
       "\n",
       "\n",
       "\n",
       "\n",
       "  <div class=\"bk-root\" id=\"cc4e6475-9e9e-497c-9fb6-a212b7174052\" data-root-id=\"1175\"></div>\n"
      ]
     },
     "metadata": {},
     "output_type": "display_data"
    },
    {
     "data": {
      "application/javascript": [
       "(function(root) {\n",
       "  function embed_document(root) {\n",
       "    \n",
       "  var docs_json = {\"002a6bb1-2ab1-4f7c-9653-10941bec3db1\":{\"roots\":{\"references\":[{\"attributes\":{\"below\":[{\"id\":\"1186\"}],\"center\":[{\"id\":\"1189\"},{\"id\":\"1193\"}],\"left\":[{\"id\":\"1190\"}],\"plot_height\":400,\"plot_width\":800,\"renderers\":[{\"id\":\"1211\"},{\"id\":\"1213\"}],\"title\":{\"id\":\"1176\"},\"toolbar\":{\"id\":\"1201\"},\"x_range\":{\"id\":\"1178\"},\"x_scale\":{\"id\":\"1182\"},\"y_range\":{\"id\":\"1180\"},\"y_scale\":{\"id\":\"1184\"}},\"id\":\"1175\",\"subtype\":\"Figure\",\"type\":\"Plot\"},{\"attributes\":{\"text\":\"Annual Mean Temperature Anomaly (1951-1980 baseline)\",\"text_font_size\":{\"value\":\"14pt\"}},\"id\":\"1176\",\"type\":\"Title\"},{\"attributes\":{\"bottom_units\":\"screen\",\"fill_alpha\":0.5,\"fill_color\":\"lightgrey\",\"left_units\":\"screen\",\"level\":\"overlay\",\"line_alpha\":1.0,\"line_color\":\"black\",\"line_dash\":[4,4],\"line_width\":2,\"right_units\":\"screen\",\"top_units\":\"screen\"},\"id\":\"1200\",\"type\":\"BoxAnnotation\"},{\"attributes\":{},\"id\":\"1187\",\"type\":\"BasicTicker\"},{\"attributes\":{},\"id\":\"1184\",\"type\":\"LinearScale\"},{\"attributes\":{},\"id\":\"1198\",\"type\":\"ResetTool\"},{\"attributes\":{},\"id\":\"1195\",\"type\":\"WheelZoomTool\"},{\"attributes\":{},\"id\":\"1237\",\"type\":\"BasicTickFormatter\"},{\"attributes\":{},\"id\":\"1240\",\"type\":\"UnionRenderers\"},{\"attributes\":{\"line_color\":\"red\",\"location\":0},\"id\":\"1213\",\"type\":\"Span\"},{\"attributes\":{\"axis\":{\"id\":\"1186\"},\"ticker\":null},\"id\":\"1189\",\"type\":\"Grid\"},{\"attributes\":{},\"id\":\"1194\",\"type\":\"PanTool\"},{\"attributes\":{},\"id\":\"1180\",\"type\":\"DataRange1d\"},{\"attributes\":{},\"id\":\"1241\",\"type\":\"Selection\"},{\"attributes\":{\"axis\":{\"id\":\"1190\"},\"dimension\":1,\"ticker\":null},\"id\":\"1193\",\"type\":\"Grid\"},{\"attributes\":{},\"id\":\"1191\",\"type\":\"BasicTicker\"},{\"attributes\":{\"line_color\":\"#1f77b4\",\"x\":{\"field\":\"x\"},\"y\":{\"field\":\"y\"}},\"id\":\"1209\",\"type\":\"Line\"},{\"attributes\":{\"axis_label\":\"Temperature (Degrees C)\",\"formatter\":{\"id\":\"1235\"},\"ticker\":{\"id\":\"1191\"}},\"id\":\"1190\",\"type\":\"LinearAxis\"},{\"attributes\":{\"axis_label\":\"Year\",\"formatter\":{\"id\":\"1237\"},\"ticker\":{\"id\":\"1187\"}},\"id\":\"1186\",\"type\":\"LinearAxis\"},{\"attributes\":{\"data\":{\"x\":[1880,1881,1882,1883,1884,1885,1886,1887,1888,1889,1890,1891,1892,1893,1894,1895,1896,1897,1898,1899,1900,1901,1902,1903,1904,1905,1906,1907,1908,1909,1910,1911,1912,1913,1914,1915,1916,1917,1918,1919,1920,1921,1922,1923,1924,1925,1926,1927,1928,1929,1930,1931,1932,1933,1934,1935,1936,1937,1938,1939,1940,1941,1942,1943,1944,1945,1946,1947,1948,1949,1950,1951,1952,1953,1954,1955,1956,1957,1958,1959,1960,1961,1962,1963,1964,1965,1966,1967,1968,1969,1970,1971,1972,1973,1974,1975,1976,1977,1978,1979,1980,1981,1982,1983,1984,1985,1986,1987,1988,1989,1990,1991,1992,1993,1994,1995,1996,1997,1998,1999,2000,2001,2002,2003,2004,2005,2006,2007,2008,2009,2010,2011,2012,2013,2014,2015,2016,2017,2018,2019],\"y\":{\"__ndarray__\":\"UrgehetRyL+amZmZmZm5vylcj8L1KLy/UrgehetRyL+PwvUoXI/Sv3sUrkfhetS/exSuR+F61L9mZmZmZmbWvwrXo3A9Cse/KVyPwvUovL+uR+F6FK7Xv7gehetRuM6/SOF6FK5H0b97FK5H4XrUv9ejcD0K19O/cD0K16Nwzb+4HoXrUbi+v7gehetRuL6/7FG4HoXr0b8K16NwPQrHvwrXo3A9Cre/exSuR+F6xL8zMzMzMzPTv/YoXI/C9di/XI/C9Shc37+PwvUoXI/Sv3A9CtejcM2/mpmZmZmZ2b+F61G4HoXbvxOuR+F6FN6/hetRuB6F27+F61G4HoXbvwrXo3A9Cte/CtejcD0K1797FK5H4XrEv6RwPQrXo8C/H4XrUbge1b8pXI/C9Sjcv4/C9Shcj9K/SOF6FK5H0b+kcD0K16PQvwrXo3A9Cse/7FG4HoXr0b8AAAAAAADQv6RwPQrXo9C/4XoUrkfhyr8K16NwPQq3v+F6FK5H4cq/mpmZmZmZyb9mZmZmZmbWvzMzMzMzM8O/mpmZmZmZub/D9Shcj8LFv4/C9Shcj9K/pHA9CtejwL+amZmZmZnJv3sUrkfhesS/exSuR+F6pL+4HoXrUbiev7gehetRuJ6/uB6F61G4vj8K16NwPQrHP5qZmZmZmak/7FG4HoXrsT/hehSuR+HKPwrXo3A9Crc/7FG4HoXrsb97FK5H4Xqkv5qZmZmZmbm/KVyPwvUovL8K16NwPQrHv+xRuB6F67G/exSuR+F6hD/sUbgeheuxPzMzMzMzM8O/7FG4HoXrwb/hehSuR+HKv3sUrkfheqQ/7FG4HoXrsT+4HoXrUbieP3sUrkfhepS/uB6F61G4rj97FK5H4XqkP+xRuB6F67E/mpmZmZmZyb8pXI/C9Si8v5qZmZmZmam/exSuR+F6lL97FK5H4Xq0v+xRuB6F67E/uB6F61G4nj8K16NwPQq3v3sUrkfheoQ/exSuR+F6xD97FK5H4Xq0v3sUrkfheoS/KVyPwvUovL/D9Shcj8LFP7gehetRuK4/exSuR+F6xD9I4XoUrkfRPx+F61G4HtU/pHA9CtejwD97FK5H4XrUP3sUrkfhesQ/uB6F61G4vj8K16NwPQrHPx+F61G4HtU/PArXo3A92j+PwvUoXI/SPylcj8L1KNw/PArXo3A92j8pXI/C9SjMP7gehetRuM4/16NwPQrX0z/OzMzMzMzcP8P1KFyPwtU/E65H4XoU3j/Xo3A9CtfjP5qZmZmZmdk/mpmZmZmZ2T/2KFyPwvXgP9ejcD0K1+M/MzMzMzMz4z/2KFyPwvXgP3E9CtejcOU/16NwPQrX4z97FK5H4XrkP1K4HoXrUeA/KVyPwvUo5D9mZmZmZmbmP4/C9Shcj+I/16NwPQrX4z/NzMzMzMzkP1yPwvUoXOc/1qNwPQrX6z+tR+F6FK7vP87MzMzMzOw/PArXo3A96j8AAAAAAAD4fw==\",\"dtype\":\"float64\",\"order\":\"little\",\"shape\":[140]}},\"selected\":{\"id\":\"1241\"},\"selection_policy\":{\"id\":\"1240\"}},\"id\":\"1208\",\"type\":\"ColumnDataSource\"},{\"attributes\":{},\"id\":\"1178\",\"type\":\"DataRange1d\"},{\"attributes\":{\"source\":{\"id\":\"1208\"}},\"id\":\"1212\",\"type\":\"CDSView\"},{\"attributes\":{\"line_alpha\":0.1,\"line_color\":\"#1f77b4\",\"x\":{\"field\":\"x\"},\"y\":{\"field\":\"y\"}},\"id\":\"1210\",\"type\":\"Line\"},{\"attributes\":{\"overlay\":{\"id\":\"1200\"}},\"id\":\"1196\",\"type\":\"BoxZoomTool\"},{\"attributes\":{\"data_source\":{\"id\":\"1208\"},\"glyph\":{\"id\":\"1209\"},\"hover_glyph\":null,\"muted_glyph\":null,\"nonselection_glyph\":{\"id\":\"1210\"},\"selection_glyph\":null,\"view\":{\"id\":\"1212\"}},\"id\":\"1211\",\"type\":\"GlyphRenderer\"},{\"attributes\":{},\"id\":\"1182\",\"type\":\"LinearScale\"},{\"attributes\":{\"active_drag\":\"auto\",\"active_inspect\":\"auto\",\"active_multi\":null,\"active_scroll\":\"auto\",\"active_tap\":\"auto\",\"tools\":[{\"id\":\"1194\"},{\"id\":\"1195\"},{\"id\":\"1196\"},{\"id\":\"1197\"},{\"id\":\"1198\"},{\"id\":\"1199\"}]},\"id\":\"1201\",\"type\":\"Toolbar\"},{\"attributes\":{},\"id\":\"1235\",\"type\":\"BasicTickFormatter\"},{\"attributes\":{},\"id\":\"1199\",\"type\":\"HelpTool\"},{\"attributes\":{},\"id\":\"1197\",\"type\":\"SaveTool\"}],\"root_ids\":[\"1175\"]},\"title\":\"Bokeh Application\",\"version\":\"2.1.1\"}};\n",
       "  var render_items = [{\"docid\":\"002a6bb1-2ab1-4f7c-9653-10941bec3db1\",\"root_ids\":[\"1175\"],\"roots\":{\"1175\":\"cc4e6475-9e9e-497c-9fb6-a212b7174052\"}}];\n",
       "  root.Bokeh.embed.embed_items_notebook(docs_json, render_items);\n",
       "\n",
       "  }\n",
       "  if (root.Bokeh !== undefined) {\n",
       "    embed_document(root);\n",
       "  } else {\n",
       "    var attempts = 0;\n",
       "    var timer = setInterval(function(root) {\n",
       "      if (root.Bokeh !== undefined) {\n",
       "        clearInterval(timer);\n",
       "        embed_document(root);\n",
       "      } else {\n",
       "        attempts++;\n",
       "        if (attempts > 100) {\n",
       "          clearInterval(timer);\n",
       "          console.log(\"Bokeh: ERROR: Unable to run BokehJS code because BokehJS library is missing\");\n",
       "        }\n",
       "      }\n",
       "    }, 10, root)\n",
       "  }\n",
       "})(window);"
      ],
      "application/vnd.bokehjs_exec.v0+json": ""
     },
     "metadata": {
      "application/vnd.bokehjs_exec.v0+json": {
       "id": "1175"
      }
     },
     "output_type": "display_data"
    }
   ],
   "source": [
    "p = figure(plot_width = 800, plot_height=400, \n",
    "           title ='Annual Mean Temperature Anomaly (1951-1980 baseline)') \n",
    "\n",
    "p.line(data['Year'], data['J-D']*100)  #*100 to convert to celsius\n",
    "hline = Span(location=0, dimension='width', \n",
    "             line_color='red', \n",
    "             line_width=1) #red line at 0\n",
    "\n",
    "p.renderers.extend([hline]) #add line to the plot\n",
    "p.xaxis.axis_label = 'Year'\n",
    "p.yaxis.axis_label = 'Temperature (Degrees C)'\n",
    "p.title.text_font_size = '14pt'\n",
    "show(p)"
   ]
  }
 ],
 "metadata": {
  "kernelspec": {
   "display_name": "Python 3",
   "language": "python",
   "name": "python3"
  },
  "language_info": {
   "codemirror_mode": {
    "name": "ipython",
    "version": 3
   },
   "file_extension": ".py",
   "mimetype": "text/x-python",
   "name": "python",
   "nbconvert_exporter": "python",
   "pygments_lexer": "ipython3",
   "version": "3.8.3"
  }
 },
 "nbformat": 4,
 "nbformat_minor": 1
}
